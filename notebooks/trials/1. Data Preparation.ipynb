{
 "cells": [
  {
   "attachments": {},
   "cell_type": "markdown",
   "metadata": {},
   "source": [
    "This notebook is about preperaring data for trial 1 & 2, and saving the data to use it for later under \n",
    "`trial1.csv` & `trial2.csv`."
   ]
  },
  {
   "cell_type": "markdown",
   "metadata": {},
   "source": [
    "<a id=\"import-libraries\"></a>\n",
    "# 1. Import Libraries & Data"
   ]
  },
  {
   "cell_type": "code",
   "execution_count": 1,
   "metadata": {},
   "outputs": [],
   "source": [
    "import pandas as pd\n",
    "import numpy as np\n",
    "import matplotlib.pyplot as plt\n",
    "import seaborn as sns"
   ]
  },
  {
   "cell_type": "code",
   "execution_count": 160,
   "metadata": {},
   "outputs": [],
   "source": [
    "original_df = pd.read_csv(\"../../descriptors-trials/trial 1/data-original.csv\", encoding= 'unicode_escape')\n",
    "output_df = pd.read_csv(\"../../descriptors-trials/trial 1/output.csv\", encoding= 'unicode_escape')"
   ]
  },
  {
   "cell_type": "code",
   "execution_count": 161,
   "metadata": {},
   "outputs": [
    {
     "data": {
      "text/plain": [
       "((481, 20), (481, 17537))"
      ]
     },
     "execution_count": 161,
     "metadata": {},
     "output_type": "execute_result"
    }
   ],
   "source": [
    "original_df.shape, output_df.shape"
   ]
  },
  {
   "cell_type": "code",
   "execution_count": 162,
   "metadata": {},
   "outputs": [
    {
     "data": {
      "text/html": [
       "<div>\n",
       "<style scoped>\n",
       "    .dataframe tbody tr th:only-of-type {\n",
       "        vertical-align: middle;\n",
       "    }\n",
       "\n",
       "    .dataframe tbody tr th {\n",
       "        vertical-align: top;\n",
       "    }\n",
       "\n",
       "    .dataframe thead th {\n",
       "        text-align: right;\n",
       "    }\n",
       "</style>\n",
       "<table border=\"1\" class=\"dataframe\">\n",
       "  <thead>\n",
       "    <tr style=\"text-align: right;\">\n",
       "      <th></th>\n",
       "      <th>No</th>\n",
       "      <th>Compound</th>\n",
       "      <th>SMILES</th>\n",
       "      <th>CAS No</th>\n",
       "      <th>set</th>\n",
       "      <th>MWa</th>\n",
       "      <th>logKowb</th>\n",
       "      <th>Mptc</th>\n",
       "      <th>LogSaqd</th>\n",
       "      <th>LogSoce</th>\n",
       "      <th>Hdf</th>\n",
       "      <th>Hag</th>\n",
       "      <th>MVh</th>\n",
       "      <th>Texpi</th>\n",
       "      <th>Skin thicknessj</th>\n",
       "      <th>Skin Integrity testk</th>\n",
       "      <th>Skin Selection criteria</th>\n",
       "      <th>logkpl</th>\n",
       "      <th>logJmaxm</th>\n",
       "      <th>Reference</th>\n",
       "    </tr>\n",
       "  </thead>\n",
       "  <tbody>\n",
       "    <tr>\n",
       "      <th>0</th>\n",
       "      <td>54</td>\n",
       "      <td>p-Nitrophenol; 4-nitrophenol</td>\n",
       "      <td>C1=CC(=CC=C1[N+](=O)[O-])O</td>\n",
       "      <td>100-02-7</td>\n",
       "      <td>t</td>\n",
       "      <td>139.10</td>\n",
       "      <td>1.91</td>\n",
       "      <td>387.0</td>\n",
       "      <td>-4.00</td>\n",
       "      <td>-2.09</td>\n",
       "      <td>1</td>\n",
       "      <td>4</td>\n",
       "      <td>94.400</td>\n",
       "      <td>298</td>\n",
       "      <td>0.1</td>\n",
       "      <td>Repeating the permeation experiment</td>\n",
       "      <td>Flux comparison</td>\n",
       "      <td>-2.25</td>\n",
       "      <td>-6.25</td>\n",
       "      <td>(Roberts et al. 1977)</td>\n",
       "    </tr>\n",
       "    <tr>\n",
       "      <th>1</th>\n",
       "      <td>200</td>\n",
       "      <td>Sodium caprate; Decanoic acid soap (C10:0)</td>\n",
       "      <td>CCCCCCCCCC(=O)[O-].[Na+]</td>\n",
       "      <td>1002-62-6</td>\n",
       "      <td>t</td>\n",
       "      <td>194.25</td>\n",
       "      <td>3.75</td>\n",
       "      <td>513.0</td>\n",
       "      <td>-2.87</td>\n",
       "      <td>0.88</td>\n",
       "      <td>1</td>\n",
       "      <td>2</td>\n",
       "      <td>198.375</td>\n",
       "      <td>310</td>\n",
       "      <td>0.1</td>\n",
       "      <td>transepidermal electrical resistance</td>\n",
       "      <td>&gt;50000 ?</td>\n",
       "      <td>-2.95</td>\n",
       "      <td>-5.83</td>\n",
       "      <td>(Howes et al. 1975)</td>\n",
       "    </tr>\n",
       "  </tbody>\n",
       "</table>\n",
       "</div>"
      ],
      "text/plain": [
       "    No                                    Compound  \\\n",
       "0   54                p-Nitrophenol; 4-nitrophenol   \n",
       "1  200  Sodium caprate; Decanoic acid soap (C10:0)   \n",
       "\n",
       "                       SMILES     CAS No set     MWa  logKowb   Mptc  LogSaqd  \\\n",
       "0  C1=CC(=CC=C1[N+](=O)[O-])O   100-02-7   t  139.10     1.91  387.0    -4.00   \n",
       "1    CCCCCCCCCC(=O)[O-].[Na+]  1002-62-6   t  194.25     3.75  513.0    -2.87   \n",
       "\n",
       "   LogSoce  Hdf  Hag      MVh  Texpi  Skin thicknessj  \\\n",
       "0    -2.09    1    4   94.400    298              0.1   \n",
       "1     0.88    1    2  198.375    310              0.1   \n",
       "\n",
       "                   Skin Integrity testk Skin Selection criteria  logkpl  \\\n",
       "0   Repeating the permeation experiment         Flux comparison   -2.25   \n",
       "1  transepidermal electrical resistance                >50000 ?   -2.95   \n",
       "\n",
       "   logJmaxm              Reference  \n",
       "0     -6.25  (Roberts et al. 1977)  \n",
       "1     -5.83    (Howes et al. 1975)  "
      ]
     },
     "execution_count": 162,
     "metadata": {},
     "output_type": "execute_result"
    }
   ],
   "source": [
    "original_df.head(2)"
   ]
  },
  {
   "cell_type": "code",
   "execution_count": 163,
   "metadata": {},
   "outputs": [
    {
     "data": {
      "text/html": [
       "<div>\n",
       "<style scoped>\n",
       "    .dataframe tbody tr th:only-of-type {\n",
       "        vertical-align: middle;\n",
       "    }\n",
       "\n",
       "    .dataframe tbody tr th {\n",
       "        vertical-align: top;\n",
       "    }\n",
       "\n",
       "    .dataframe thead th {\n",
       "        text-align: right;\n",
       "    }\n",
       "</style>\n",
       "<table border=\"1\" class=\"dataframe\">\n",
       "  <thead>\n",
       "    <tr style=\"text-align: right;\">\n",
       "      <th></th>\n",
       "      <th>Name</th>\n",
       "      <th>nAcid</th>\n",
       "      <th>ALogP</th>\n",
       "      <th>ALogp2</th>\n",
       "      <th>AMR</th>\n",
       "      <th>apol</th>\n",
       "      <th>naAromAtom</th>\n",
       "      <th>nAromBond</th>\n",
       "      <th>nAtom</th>\n",
       "      <th>nHeavyAtom</th>\n",
       "      <th>...</th>\n",
       "      <th>APC2D10_I_I</th>\n",
       "      <th>APC2D10_I_B</th>\n",
       "      <th>APC2D10_I_Si</th>\n",
       "      <th>APC2D10_I_X</th>\n",
       "      <th>APC2D10_B_B</th>\n",
       "      <th>APC2D10_B_Si</th>\n",
       "      <th>APC2D10_B_X</th>\n",
       "      <th>APC2D10_Si_Si</th>\n",
       "      <th>APC2D10_Si_X</th>\n",
       "      <th>APC2D10_X_X</th>\n",
       "    </tr>\n",
       "  </thead>\n",
       "  <tbody>\n",
       "    <tr>\n",
       "      <th>0</th>\n",
       "      <td>AUTOGEN_data_1</td>\n",
       "      <td>0</td>\n",
       "      <td>0.1998</td>\n",
       "      <td>0.039920</td>\n",
       "      <td>6.4546</td>\n",
       "      <td>17.399965</td>\n",
       "      <td>6</td>\n",
       "      <td>6</td>\n",
       "      <td>15</td>\n",
       "      <td>10</td>\n",
       "      <td>...</td>\n",
       "      <td>0.0</td>\n",
       "      <td>0.0</td>\n",
       "      <td>0.0</td>\n",
       "      <td>0.0</td>\n",
       "      <td>0.0</td>\n",
       "      <td>0.0</td>\n",
       "      <td>0.0</td>\n",
       "      <td>0.0</td>\n",
       "      <td>0.0</td>\n",
       "      <td>0.0</td>\n",
       "    </tr>\n",
       "    <tr>\n",
       "      <th>1</th>\n",
       "      <td>AUTOGEN_data_2</td>\n",
       "      <td>0</td>\n",
       "      <td>-2.8475</td>\n",
       "      <td>8.108256</td>\n",
       "      <td>35.7706</td>\n",
       "      <td>31.873067</td>\n",
       "      <td>0</td>\n",
       "      <td>0</td>\n",
       "      <td>31</td>\n",
       "      <td>12</td>\n",
       "      <td>...</td>\n",
       "      <td>0.0</td>\n",
       "      <td>0.0</td>\n",
       "      <td>0.0</td>\n",
       "      <td>0.0</td>\n",
       "      <td>0.0</td>\n",
       "      <td>0.0</td>\n",
       "      <td>0.0</td>\n",
       "      <td>0.0</td>\n",
       "      <td>0.0</td>\n",
       "      <td>0.0</td>\n",
       "    </tr>\n",
       "  </tbody>\n",
       "</table>\n",
       "<p>2 rows × 17537 columns</p>\n",
       "</div>"
      ],
      "text/plain": [
       "             Name  nAcid   ALogP    ALogp2      AMR       apol  naAromAtom  \\\n",
       "0  AUTOGEN_data_1      0  0.1998  0.039920   6.4546  17.399965           6   \n",
       "1  AUTOGEN_data_2      0 -2.8475  8.108256  35.7706  31.873067           0   \n",
       "\n",
       "   nAromBond  nAtom  nHeavyAtom  ...  APC2D10_I_I  APC2D10_I_B  APC2D10_I_Si  \\\n",
       "0          6     15          10  ...          0.0          0.0           0.0   \n",
       "1          0     31          12  ...          0.0          0.0           0.0   \n",
       "\n",
       "   APC2D10_I_X  APC2D10_B_B  APC2D10_B_Si  APC2D10_B_X  APC2D10_Si_Si  \\\n",
       "0          0.0          0.0           0.0          0.0            0.0   \n",
       "1          0.0          0.0           0.0          0.0            0.0   \n",
       "\n",
       "   APC2D10_Si_X  APC2D10_X_X  \n",
       "0           0.0          0.0  \n",
       "1           0.0          0.0  \n",
       "\n",
       "[2 rows x 17537 columns]"
      ]
     },
     "execution_count": 163,
     "metadata": {},
     "output_type": "execute_result"
    }
   ],
   "source": [
    "output_df.head(2)"
   ]
  },
  {
   "cell_type": "code",
   "execution_count": 192,
   "metadata": {},
   "outputs": [],
   "source": [
    "clean_output_df = output_df.copy()"
   ]
  },
  {
   "cell_type": "code",
   "execution_count": 193,
   "metadata": {},
   "outputs": [],
   "source": [
    "# dropping Name column\n",
    "clean_output_df.drop('Name', axis=1, inplace=True)"
   ]
  },
  {
   "cell_type": "code",
   "execution_count": 194,
   "metadata": {},
   "outputs": [
    {
     "data": {
      "text/html": [
       "<div>\n",
       "<style scoped>\n",
       "    .dataframe tbody tr th:only-of-type {\n",
       "        vertical-align: middle;\n",
       "    }\n",
       "\n",
       "    .dataframe tbody tr th {\n",
       "        vertical-align: top;\n",
       "    }\n",
       "\n",
       "    .dataframe thead th {\n",
       "        text-align: right;\n",
       "    }\n",
       "</style>\n",
       "<table border=\"1\" class=\"dataframe\">\n",
       "  <thead>\n",
       "    <tr style=\"text-align: right;\">\n",
       "      <th></th>\n",
       "      <th>nAcid</th>\n",
       "      <th>ALogP</th>\n",
       "      <th>ALogp2</th>\n",
       "      <th>AMR</th>\n",
       "      <th>apol</th>\n",
       "      <th>naAromAtom</th>\n",
       "      <th>nAromBond</th>\n",
       "      <th>nAtom</th>\n",
       "      <th>nHeavyAtom</th>\n",
       "      <th>nH</th>\n",
       "      <th>...</th>\n",
       "      <th>APC2D10_I_I</th>\n",
       "      <th>APC2D10_I_B</th>\n",
       "      <th>APC2D10_I_Si</th>\n",
       "      <th>APC2D10_I_X</th>\n",
       "      <th>APC2D10_B_B</th>\n",
       "      <th>APC2D10_B_Si</th>\n",
       "      <th>APC2D10_B_X</th>\n",
       "      <th>APC2D10_Si_Si</th>\n",
       "      <th>APC2D10_Si_X</th>\n",
       "      <th>APC2D10_X_X</th>\n",
       "    </tr>\n",
       "  </thead>\n",
       "  <tbody>\n",
       "    <tr>\n",
       "      <th>0</th>\n",
       "      <td>0</td>\n",
       "      <td>0.1998</td>\n",
       "      <td>0.039920</td>\n",
       "      <td>6.4546</td>\n",
       "      <td>17.399965</td>\n",
       "      <td>6</td>\n",
       "      <td>6</td>\n",
       "      <td>15</td>\n",
       "      <td>10</td>\n",
       "      <td>5</td>\n",
       "      <td>...</td>\n",
       "      <td>0.0</td>\n",
       "      <td>0.0</td>\n",
       "      <td>0.0</td>\n",
       "      <td>0.0</td>\n",
       "      <td>0.0</td>\n",
       "      <td>0.0</td>\n",
       "      <td>0.0</td>\n",
       "      <td>0.0</td>\n",
       "      <td>0.0</td>\n",
       "      <td>0.0</td>\n",
       "    </tr>\n",
       "    <tr>\n",
       "      <th>1</th>\n",
       "      <td>0</td>\n",
       "      <td>-2.8475</td>\n",
       "      <td>8.108256</td>\n",
       "      <td>35.7706</td>\n",
       "      <td>31.873067</td>\n",
       "      <td>0</td>\n",
       "      <td>0</td>\n",
       "      <td>31</td>\n",
       "      <td>12</td>\n",
       "      <td>19</td>\n",
       "      <td>...</td>\n",
       "      <td>0.0</td>\n",
       "      <td>0.0</td>\n",
       "      <td>0.0</td>\n",
       "      <td>0.0</td>\n",
       "      <td>0.0</td>\n",
       "      <td>0.0</td>\n",
       "      <td>0.0</td>\n",
       "      <td>0.0</td>\n",
       "      <td>0.0</td>\n",
       "      <td>0.0</td>\n",
       "    </tr>\n",
       "  </tbody>\n",
       "</table>\n",
       "<p>2 rows × 17536 columns</p>\n",
       "</div>"
      ],
      "text/plain": [
       "   nAcid   ALogP    ALogp2      AMR       apol  naAromAtom  nAromBond  nAtom  \\\n",
       "0      0  0.1998  0.039920   6.4546  17.399965           6          6     15   \n",
       "1      0 -2.8475  8.108256  35.7706  31.873067           0          0     31   \n",
       "\n",
       "   nHeavyAtom  nH  ...  APC2D10_I_I  APC2D10_I_B  APC2D10_I_Si  APC2D10_I_X  \\\n",
       "0          10   5  ...          0.0          0.0           0.0          0.0   \n",
       "1          12  19  ...          0.0          0.0           0.0          0.0   \n",
       "\n",
       "   APC2D10_B_B  APC2D10_B_Si  APC2D10_B_X  APC2D10_Si_Si  APC2D10_Si_X  \\\n",
       "0          0.0           0.0          0.0            0.0           0.0   \n",
       "1          0.0           0.0          0.0            0.0           0.0   \n",
       "\n",
       "   APC2D10_X_X  \n",
       "0          0.0  \n",
       "1          0.0  \n",
       "\n",
       "[2 rows x 17536 columns]"
      ]
     },
     "execution_count": 194,
     "metadata": {},
     "output_type": "execute_result"
    }
   ],
   "source": [
    "clean_output_df.head(2)"
   ]
  },
  {
   "cell_type": "code",
   "execution_count": 195,
   "metadata": {},
   "outputs": [],
   "source": [
    "clean_output_df.replace([np.inf, -np.inf], np.nan, inplace=True)"
   ]
  },
  {
   "cell_type": "code",
   "execution_count": 196,
   "metadata": {},
   "outputs": [
    {
     "name": "stdout",
     "output_type": "stream",
     "text": [
      "ATS0s 31\n",
      "ATS1s 31\n",
      "AATS0s 31\n",
      "AATS1s 31\n",
      "ATSC0s 31\n",
      "ATSC1s 31\n",
      "ATSC2s 31\n",
      "AATSC0s 31\n",
      "AATSC1s 31\n",
      "AATSC2s 31\n",
      "SpAbs_DzZ 31\n",
      "SpMax_DzZ 31\n",
      "SpDiam_DzZ 31\n",
      "SpAD_DzZ 31\n",
      "SpMAD_DzZ 31\n",
      "EE_DzZ 31\n",
      "SM1_DzZ 31\n",
      "VE1_DzZ 31\n",
      "VE2_DzZ 31\n",
      "VE3_DzZ 31\n",
      "VR1_DzZ 31\n",
      "VR2_DzZ 31\n",
      "VR3_DzZ 31\n",
      "SpAbs_Dzm 31\n",
      "SpMax_Dzm 31\n",
      "SpDiam_Dzm 31\n",
      "SpAD_Dzm 31\n",
      "SpMAD_Dzm 31\n",
      "EE_Dzm 31\n",
      "SM1_Dzm 31\n",
      "VE1_Dzm 31\n",
      "VE2_Dzm 31\n",
      "VE3_Dzm 31\n",
      "VR1_Dzm 31\n",
      "VR2_Dzm 31\n",
      "VR3_Dzm 31\n",
      "SpAbs_Dzv 31\n",
      "SpMax_Dzv 31\n",
      "SpDiam_Dzv 31\n",
      "SpAD_Dzv 31\n",
      "SpMAD_Dzv 31\n",
      "EE_Dzv 31\n",
      "SM1_Dzv 31\n",
      "VE1_Dzv 31\n",
      "VE2_Dzv 31\n",
      "VE3_Dzv 31\n",
      "VR1_Dzv 31\n",
      "VR2_Dzv 31\n",
      "VR3_Dzv 31\n",
      "SpAbs_Dze 31\n",
      "SpMax_Dze 31\n",
      "SpDiam_Dze 31\n",
      "SpAD_Dze 31\n",
      "SpMAD_Dze 31\n",
      "EE_Dze 31\n",
      "SM1_Dze 31\n",
      "VE1_Dze 31\n",
      "VE2_Dze 31\n",
      "VE3_Dze 31\n",
      "VR1_Dze 31\n",
      "VR2_Dze 31\n",
      "VR3_Dze 31\n",
      "SpAbs_Dzp 31\n",
      "SpMax_Dzp 31\n",
      "SpDiam_Dzp 31\n",
      "SpAD_Dzp 31\n",
      "SpMAD_Dzp 31\n",
      "EE_Dzp 31\n",
      "SM1_Dzp 31\n",
      "VE1_Dzp 31\n",
      "VE2_Dzp 31\n",
      "VE3_Dzp 31\n",
      "VR1_Dzp 31\n",
      "VR2_Dzp 31\n",
      "VR3_Dzp 31\n",
      "SpAbs_Dzi 31\n",
      "SpMax_Dzi 31\n",
      "SpDiam_Dzi 31\n",
      "SpAD_Dzi 31\n",
      "SpMAD_Dzi 31\n",
      "EE_Dzi 31\n",
      "SM1_Dzi 31\n",
      "VE1_Dzi 31\n",
      "VE2_Dzi 31\n",
      "VE3_Dzi 31\n",
      "VR1_Dzi 31\n",
      "VR2_Dzi 31\n",
      "VR3_Dzi 31\n",
      "SpAbs_Dzs 31\n",
      "SpMax_Dzs 31\n",
      "SpDiam_Dzs 31\n",
      "SpAD_Dzs 31\n",
      "SpMAD_Dzs 31\n",
      "EE_Dzs 31\n",
      "SM1_Dzs 31\n",
      "VE1_Dzs 31\n",
      "VE2_Dzs 31\n",
      "VE3_Dzs 31\n",
      "VR1_Dzs 31\n",
      "VR2_Dzs 31\n",
      "VR3_Dzs 31\n",
      "SpMax1_Bhm 31\n",
      "SpMax2_Bhm 31\n",
      "SpMax3_Bhm 31\n",
      "SpMax4_Bhm 31\n",
      "SpMax5_Bhm 31\n",
      "SpMax6_Bhm 31\n",
      "SpMax7_Bhm 34\n",
      "SpMax8_Bhm 34\n",
      "SpMin1_Bhm 31\n",
      "SpMin2_Bhm 31\n",
      "SpMin3_Bhm 31\n",
      "SpMin4_Bhm 31\n",
      "SpMin5_Bhm 31\n",
      "SpMin6_Bhm 31\n",
      "SpMin7_Bhm 34\n",
      "SpMin8_Bhm 34\n",
      "SpMax1_Bhv 31\n",
      "SpMax2_Bhv 31\n",
      "SpMax3_Bhv 31\n",
      "SpMax4_Bhv 31\n",
      "SpMax5_Bhv 31\n",
      "SpMax6_Bhv 31\n",
      "SpMax7_Bhv 34\n",
      "SpMax8_Bhv 34\n",
      "SpMin1_Bhv 31\n",
      "SpMin2_Bhv 31\n",
      "SpMin3_Bhv 31\n",
      "SpMin4_Bhv 31\n",
      "SpMin5_Bhv 31\n",
      "SpMin6_Bhv 31\n",
      "SpMin7_Bhv 34\n",
      "SpMin8_Bhv 34\n",
      "SpMax1_Bhe 31\n",
      "SpMax2_Bhe 31\n",
      "SpMax3_Bhe 31\n",
      "SpMax4_Bhe 31\n",
      "SpMax5_Bhe 31\n",
      "SpMax6_Bhe 31\n",
      "SpMax7_Bhe 34\n",
      "SpMax8_Bhe 34\n",
      "SpMin1_Bhe 31\n",
      "SpMin2_Bhe 31\n",
      "SpMin3_Bhe 31\n",
      "SpMin4_Bhe 31\n",
      "SpMin5_Bhe 31\n",
      "SpMin6_Bhe 31\n",
      "SpMin7_Bhe 34\n",
      "SpMin8_Bhe 34\n",
      "SpMax1_Bhp 31\n",
      "SpMax2_Bhp 31\n",
      "SpMax3_Bhp 31\n",
      "SpMax4_Bhp 31\n",
      "SpMax5_Bhp 31\n",
      "SpMax6_Bhp 31\n",
      "SpMax7_Bhp 34\n",
      "SpMax8_Bhp 34\n",
      "SpMin1_Bhp 31\n",
      "SpMin2_Bhp 31\n",
      "SpMin3_Bhp 31\n",
      "SpMin4_Bhp 31\n",
      "SpMin5_Bhp 31\n",
      "SpMin6_Bhp 31\n",
      "SpMin7_Bhp 34\n",
      "SpMin8_Bhp 34\n",
      "SpMax1_Bhi 31\n",
      "SpMax2_Bhi 31\n",
      "SpMax3_Bhi 31\n",
      "SpMax4_Bhi 31\n",
      "SpMax5_Bhi 31\n",
      "SpMax6_Bhi 31\n",
      "SpMax7_Bhi 34\n",
      "SpMax8_Bhi 34\n",
      "SpMin1_Bhi 31\n",
      "SpMin2_Bhi 31\n",
      "SpMin3_Bhi 31\n",
      "SpMin4_Bhi 31\n",
      "SpMin5_Bhi 31\n",
      "SpMin6_Bhi 31\n",
      "SpMin7_Bhi 34\n",
      "SpMin8_Bhi 34\n",
      "SpMax1_Bhs 31\n",
      "SpMax2_Bhs 31\n",
      "SpMax3_Bhs 31\n",
      "SpMax4_Bhs 31\n",
      "SpMax5_Bhs 31\n",
      "SpMax6_Bhs 31\n",
      "SpMax7_Bhs 34\n",
      "SpMax8_Bhs 34\n",
      "SpMin1_Bhs 31\n",
      "SpMin2_Bhs 31\n",
      "SpMin3_Bhs 31\n",
      "SpMin4_Bhs 31\n",
      "SpMin5_Bhs 31\n",
      "SpMin6_Bhs 31\n",
      "SpMin7_Bhs 34\n",
      "SpMin8_Bhs 34\n",
      "VR3_Dt 31\n",
      "sumI 31\n",
      "meanI 31\n",
      "gmax 31\n",
      "HybRatio 31\n",
      "Kier3 12\n",
      "topoShape 31\n",
      "VR3_D 31\n"
     ]
    }
   ],
   "source": [
    "for col in clean_output_df.columns:\n",
    "    if clean_output_df[col].isna().sum() > 0:\n",
    "        print(col, clean_output_df[col].isna().sum())\n",
    "        clean_output_df[col].fillna(clean_output_df[col].mean(), inplace=True)"
   ]
  },
  {
   "cell_type": "code",
   "execution_count": 198,
   "metadata": {},
   "outputs": [
    {
     "data": {
      "text/plain": [
       "logkpl    0\n",
       "Texpi     0\n",
       "dtype: int64"
      ]
     },
     "execution_count": 198,
     "metadata": {},
     "output_type": "execute_result"
    }
   ],
   "source": [
    "# getting `logkpl` & `Texpi` from original df\n",
    "texpi_logkpl = original_df[['logkpl', 'Texpi']]\n",
    "texpi_logkpl.isna().sum()"
   ]
  },
  {
   "cell_type": "code",
   "execution_count": 199,
   "metadata": {},
   "outputs": [
    {
     "data": {
      "text/plain": [
       "(481, 17538)"
      ]
     },
     "execution_count": 199,
     "metadata": {},
     "output_type": "execute_result"
    }
   ],
   "source": [
    "# making the trial 1 file \n",
    "trial_1_df = pd.concat([texpi_logkpl, clean_output_df], axis=1)\n",
    "trial_1_df.shape"
   ]
  },
  {
   "cell_type": "code",
   "execution_count": 200,
   "metadata": {},
   "outputs": [
    {
     "data": {
      "text/plain": [
       "0"
      ]
     },
     "execution_count": 200,
     "metadata": {},
     "output_type": "execute_result"
    }
   ],
   "source": [
    "trial_1_df.isna().sum().sum()"
   ]
  },
  {
   "cell_type": "code",
   "execution_count": 201,
   "metadata": {},
   "outputs": [],
   "source": [
    "# saving trial 1 file\n",
    "trial_1_df.to_csv('../../data/processed/trial1.csv', index=False)"
   ]
  },
  {
   "cell_type": "code",
   "execution_count": 78,
   "metadata": {},
   "outputs": [],
   "source": [
    "# starting from index 401 - 431 (432 exlcuded) removing water compounds\n",
    "index_to_drop = [i for i in range(401, 432)]"
   ]
  },
  {
   "cell_type": "code",
   "execution_count": 130,
   "metadata": {},
   "outputs": [],
   "source": [
    "tries = output_df.drop(index_to_drop, axis=0)\n",
    "texpi_logkpl_trial_2 = texpi_logkpl.drop(index_to_drop, axis=0)"
   ]
  },
  {
   "cell_type": "code",
   "execution_count": 131,
   "metadata": {},
   "outputs": [
    {
     "name": "stdout",
     "output_type": "stream",
     "text": [
      "SpMax7_Bhm 3\n",
      "SpMax8_Bhm 3\n",
      "SpMin7_Bhm 3\n",
      "SpMin8_Bhm 3\n",
      "SpMax7_Bhv 3\n",
      "SpMax8_Bhv 3\n",
      "SpMin7_Bhv 3\n",
      "SpMin8_Bhv 3\n",
      "SpMax7_Bhe 3\n",
      "SpMax8_Bhe 3\n",
      "SpMin7_Bhe 3\n",
      "SpMin8_Bhe 3\n",
      "SpMax7_Bhp 3\n",
      "SpMax8_Bhp 3\n",
      "SpMin7_Bhp 3\n",
      "SpMin8_Bhp 3\n",
      "SpMax7_Bhi 3\n",
      "SpMax8_Bhi 3\n",
      "SpMin7_Bhi 3\n",
      "SpMin8_Bhi 3\n",
      "SpMax7_Bhs 3\n",
      "SpMax8_Bhs 3\n",
      "SpMin7_Bhs 3\n",
      "SpMin8_Bhs 3\n",
      "Kier3 12\n"
     ]
    }
   ],
   "source": [
    "for col in tries.columns:\n",
    "    if tries[col].isna().sum() > 0:\n",
    "        print(col, tries[col].isna().sum())\n",
    "        tries[col] = tries[col].fillna(tries[col].mean())"
   ]
  },
  {
   "cell_type": "code",
   "execution_count": 132,
   "metadata": {},
   "outputs": [
    {
     "data": {
      "text/plain": [
       "(450, 17537)"
      ]
     },
     "execution_count": 132,
     "metadata": {},
     "output_type": "execute_result"
    }
   ],
   "source": [
    "tries.shape"
   ]
  },
  {
   "cell_type": "code",
   "execution_count": 133,
   "metadata": {},
   "outputs": [],
   "source": [
    "# drop name column\n",
    "tries.drop('Name', axis=1, inplace=True)"
   ]
  },
  {
   "cell_type": "code",
   "execution_count": 134,
   "metadata": {},
   "outputs": [
    {
     "data": {
      "text/plain": [
       "(450, 17538)"
      ]
     },
     "execution_count": 134,
     "metadata": {},
     "output_type": "execute_result"
    }
   ],
   "source": [
    "# making the trial 2 file \n",
    "trial_2_df = pd.concat([texpi_logkpl_trial_2, tries], axis=1)\n",
    "trial_2_df.reset_index(drop=True, inplace=True)\n",
    "trial_2_df.shape"
   ]
  },
  {
   "cell_type": "code",
   "execution_count": 135,
   "metadata": {},
   "outputs": [
    {
     "data": {
      "text/plain": [
       "0"
      ]
     },
     "execution_count": 135,
     "metadata": {},
     "output_type": "execute_result"
    }
   ],
   "source": [
    "trial_2_df.isna().sum().sum()"
   ]
  },
  {
   "cell_type": "code",
   "execution_count": 136,
   "metadata": {},
   "outputs": [],
   "source": [
    "# saving trial 2 file\n",
    "trial_2_df.to_csv('../../data/processed/trial2.csv', index=False)"
   ]
  }
 ],
 "metadata": {
  "kernelspec": {
   "display_name": "ds",
   "language": "python",
   "name": "python3"
  },
  "language_info": {
   "codemirror_mode": {
    "name": "ipython",
    "version": 3
   },
   "file_extension": ".py",
   "mimetype": "text/x-python",
   "name": "python",
   "nbconvert_exporter": "python",
   "pygments_lexer": "ipython3",
   "version": "3.10.9"
  },
  "orig_nbformat": 4,
  "vscode": {
   "interpreter": {
    "hash": "20dc5ffa7283070ee904113ac137ec063d55d491ad60d3ae86495ae673f57bef"
   }
  }
 },
 "nbformat": 4,
 "nbformat_minor": 2
}
