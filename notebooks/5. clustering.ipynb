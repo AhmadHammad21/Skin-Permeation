{
 "cells": [
  {
   "attachments": {},
   "cell_type": "markdown",
   "metadata": {},
   "source": [
    "This notebook illustrates using clustering and our descriptors compounds."
   ]
  },
  {
   "cell_type": "code",
   "execution_count": 55,
   "metadata": {},
   "outputs": [],
   "source": [
    "import pandas as pd\n",
    "import numpy as np\n",
    "import matplotlib.pyplot as plt\n",
    "import seaborn as sns\n",
    "import plotly.express as px\n",
    "\n",
    "from sklearn.preprocessing import StandardScaler\n",
    "from sklearn.cluster import KMeans\n",
    "from sklearn.decomposition import PCA\n",
    "import warnings\n",
    "warnings.filterwarnings(\"ignore\")"
   ]
  },
  {
   "cell_type": "code",
   "execution_count": 2,
   "metadata": {},
   "outputs": [],
   "source": [
    "# import data\n",
    "data = pd.read_csv(\"../data/processed/descriptors.csv\")"
   ]
  },
  {
   "cell_type": "code",
   "execution_count": 3,
   "metadata": {},
   "outputs": [
    {
     "data": {
      "text/html": [
       "<div>\n",
       "<style scoped>\n",
       "    .dataframe tbody tr th:only-of-type {\n",
       "        vertical-align: middle;\n",
       "    }\n",
       "\n",
       "    .dataframe tbody tr th {\n",
       "        vertical-align: top;\n",
       "    }\n",
       "\n",
       "    .dataframe thead th {\n",
       "        text-align: right;\n",
       "    }\n",
       "</style>\n",
       "<table border=\"1\" class=\"dataframe\">\n",
       "  <thead>\n",
       "    <tr style=\"text-align: right;\">\n",
       "      <th></th>\n",
       "      <th>Compound</th>\n",
       "      <th>logkpl</th>\n",
       "      <th>MLogP</th>\n",
       "      <th>nSmallRings</th>\n",
       "      <th>nAromRings</th>\n",
       "      <th>nRingBlocks</th>\n",
       "      <th>nAromBlocks</th>\n",
       "      <th>nRings3</th>\n",
       "      <th>nRings5</th>\n",
       "      <th>nRings6</th>\n",
       "      <th>...</th>\n",
       "      <th>Kier2</th>\n",
       "      <th>Kier3</th>\n",
       "      <th>naAromAtom</th>\n",
       "      <th>ATSp1</th>\n",
       "      <th>ATSp2</th>\n",
       "      <th>ATSp3</th>\n",
       "      <th>ATSp4</th>\n",
       "      <th>ATSp5</th>\n",
       "      <th>nB</th>\n",
       "      <th>MolIP</th>\n",
       "    </tr>\n",
       "  </thead>\n",
       "  <tbody>\n",
       "    <tr>\n",
       "      <th>0</th>\n",
       "      <td>p-Nitrophenol; 4-nitrophenol</td>\n",
       "      <td>-2.250000</td>\n",
       "      <td>1.68</td>\n",
       "      <td>1.0</td>\n",
       "      <td>1.0</td>\n",
       "      <td>1.0</td>\n",
       "      <td>1.0</td>\n",
       "      <td>0.0</td>\n",
       "      <td>0.0</td>\n",
       "      <td>1.0</td>\n",
       "      <td>...</td>\n",
       "      <td>3.408284</td>\n",
       "      <td>2.285714</td>\n",
       "      <td>6.0</td>\n",
       "      <td>373.777514</td>\n",
       "      <td>409.011832</td>\n",
       "      <td>503.255946</td>\n",
       "      <td>390.565769</td>\n",
       "      <td>173.603316</td>\n",
       "      <td>10.0</td>\n",
       "      <td>8.519901</td>\n",
       "    </tr>\n",
       "    <tr>\n",
       "      <th>1</th>\n",
       "      <td>Benzyl bromide</td>\n",
       "      <td>-1.892027</td>\n",
       "      <td>2.12</td>\n",
       "      <td>1.0</td>\n",
       "      <td>1.0</td>\n",
       "      <td>1.0</td>\n",
       "      <td>1.0</td>\n",
       "      <td>0.0</td>\n",
       "      <td>0.0</td>\n",
       "      <td>1.0</td>\n",
       "      <td>...</td>\n",
       "      <td>3.111111</td>\n",
       "      <td>1.800000</td>\n",
       "      <td>6.0</td>\n",
       "      <td>463.175094</td>\n",
       "      <td>476.652907</td>\n",
       "      <td>530.316455</td>\n",
       "      <td>392.280643</td>\n",
       "      <td>151.974579</td>\n",
       "      <td>8.0</td>\n",
       "      <td>8.338537</td>\n",
       "    </tr>\n",
       "  </tbody>\n",
       "</table>\n",
       "<p>2 rows × 170 columns</p>\n",
       "</div>"
      ],
      "text/plain": [
       "                       Compound    logkpl  MLogP  nSmallRings  nAromRings  \\\n",
       "0  p-Nitrophenol; 4-nitrophenol -2.250000   1.68          1.0         1.0   \n",
       "1                Benzyl bromide -1.892027   2.12          1.0         1.0   \n",
       "\n",
       "   nRingBlocks  nAromBlocks  nRings3  nRings5  nRings6  ...     Kier2  \\\n",
       "0          1.0          1.0      0.0      0.0      1.0  ...  3.408284   \n",
       "1          1.0          1.0      0.0      0.0      1.0  ...  3.111111   \n",
       "\n",
       "      Kier3  naAromAtom       ATSp1       ATSp2       ATSp3       ATSp4  \\\n",
       "0  2.285714         6.0  373.777514  409.011832  503.255946  390.565769   \n",
       "1  1.800000         6.0  463.175094  476.652907  530.316455  392.280643   \n",
       "\n",
       "        ATSp5    nB     MolIP  \n",
       "0  173.603316  10.0  8.519901  \n",
       "1  151.974579   8.0  8.338537  \n",
       "\n",
       "[2 rows x 170 columns]"
      ]
     },
     "execution_count": 3,
     "metadata": {},
     "output_type": "execute_result"
    }
   ],
   "source": [
    "data.head(2)"
   ]
  },
  {
   "cell_type": "code",
   "execution_count": 92,
   "metadata": {},
   "outputs": [
    {
     "data": {
      "text/html": [
       "<div>\n",
       "<style scoped>\n",
       "    .dataframe tbody tr th:only-of-type {\n",
       "        vertical-align: middle;\n",
       "    }\n",
       "\n",
       "    .dataframe tbody tr th {\n",
       "        vertical-align: top;\n",
       "    }\n",
       "\n",
       "    .dataframe thead th {\n",
       "        text-align: right;\n",
       "    }\n",
       "</style>\n",
       "<table border=\"1\" class=\"dataframe\">\n",
       "  <thead>\n",
       "    <tr style=\"text-align: right;\">\n",
       "      <th></th>\n",
       "      <th>logkpl</th>\n",
       "      <th>MLogP</th>\n",
       "      <th>nSmallRings</th>\n",
       "      <th>nAromRings</th>\n",
       "      <th>nRingBlocks</th>\n",
       "      <th>nAromBlocks</th>\n",
       "      <th>nRings3</th>\n",
       "      <th>nRings5</th>\n",
       "      <th>nRings6</th>\n",
       "      <th>WPATH</th>\n",
       "      <th>...</th>\n",
       "      <th>Kier2</th>\n",
       "      <th>Kier3</th>\n",
       "      <th>naAromAtom</th>\n",
       "      <th>ATSp1</th>\n",
       "      <th>ATSp2</th>\n",
       "      <th>ATSp3</th>\n",
       "      <th>ATSp4</th>\n",
       "      <th>ATSp5</th>\n",
       "      <th>nB</th>\n",
       "      <th>MolIP</th>\n",
       "    </tr>\n",
       "  </thead>\n",
       "  <tbody>\n",
       "    <tr>\n",
       "      <th>0</th>\n",
       "      <td>-2.250000</td>\n",
       "      <td>1.68</td>\n",
       "      <td>1.0</td>\n",
       "      <td>1.0</td>\n",
       "      <td>1.0</td>\n",
       "      <td>1.0</td>\n",
       "      <td>0.0</td>\n",
       "      <td>0.0</td>\n",
       "      <td>1.0</td>\n",
       "      <td>120.0</td>\n",
       "      <td>...</td>\n",
       "      <td>3.408284</td>\n",
       "      <td>2.285714</td>\n",
       "      <td>6.0</td>\n",
       "      <td>373.777514</td>\n",
       "      <td>409.011832</td>\n",
       "      <td>503.255946</td>\n",
       "      <td>390.565769</td>\n",
       "      <td>173.603316</td>\n",
       "      <td>10.0</td>\n",
       "      <td>8.519901</td>\n",
       "    </tr>\n",
       "    <tr>\n",
       "      <th>1</th>\n",
       "      <td>-1.892027</td>\n",
       "      <td>2.12</td>\n",
       "      <td>1.0</td>\n",
       "      <td>1.0</td>\n",
       "      <td>1.0</td>\n",
       "      <td>1.0</td>\n",
       "      <td>0.0</td>\n",
       "      <td>0.0</td>\n",
       "      <td>1.0</td>\n",
       "      <td>64.0</td>\n",
       "      <td>...</td>\n",
       "      <td>3.111111</td>\n",
       "      <td>1.800000</td>\n",
       "      <td>6.0</td>\n",
       "      <td>463.175094</td>\n",
       "      <td>476.652907</td>\n",
       "      <td>530.316455</td>\n",
       "      <td>392.280643</td>\n",
       "      <td>151.974579</td>\n",
       "      <td>8.0</td>\n",
       "      <td>8.338537</td>\n",
       "    </tr>\n",
       "  </tbody>\n",
       "</table>\n",
       "<p>2 rows × 169 columns</p>\n",
       "</div>"
      ],
      "text/plain": [
       "     logkpl  MLogP  nSmallRings  nAromRings  nRingBlocks  nAromBlocks  \\\n",
       "0 -2.250000   1.68          1.0         1.0          1.0          1.0   \n",
       "1 -1.892027   2.12          1.0         1.0          1.0          1.0   \n",
       "\n",
       "   nRings3  nRings5  nRings6  WPATH  ...     Kier2     Kier3  naAromAtom  \\\n",
       "0      0.0      0.0      1.0  120.0  ...  3.408284  2.285714         6.0   \n",
       "1      0.0      0.0      1.0   64.0  ...  3.111111  1.800000         6.0   \n",
       "\n",
       "        ATSp1       ATSp2       ATSp3       ATSp4       ATSp5    nB     MolIP  \n",
       "0  373.777514  409.011832  503.255946  390.565769  173.603316  10.0  8.519901  \n",
       "1  463.175094  476.652907  530.316455  392.280643  151.974579   8.0  8.338537  \n",
       "\n",
       "[2 rows x 169 columns]"
      ]
     },
     "execution_count": 92,
     "metadata": {},
     "output_type": "execute_result"
    }
   ],
   "source": [
    "# getting all descriptors except compound name\n",
    "without_compound = data.iloc[:, 1:]\n",
    "without_compound.head(2)"
   ]
  },
  {
   "cell_type": "code",
   "execution_count": 5,
   "metadata": {},
   "outputs": [],
   "source": [
    "# scaling our data by using standard scaler\n",
    "scaler = StandardScaler()\n",
    "X_scaled = scaler.fit_transform(without_compound)"
   ]
  },
  {
   "cell_type": "code",
   "execution_count": 57,
   "metadata": {},
   "outputs": [
    {
     "data": {
      "image/png": "[encoded data removed]",
      "text/plain": [
       "<Figure size 640x480 with 1 Axes>"
      ]
     },
     "metadata": {},
     "output_type": "display_data"
    }
   ],
   "source": [
    "# elbow method\n",
    "n_clusters = 20\n",
    "cost = []\n",
    "for i in range(1, n_clusters):\n",
    "    kmean= KMeans(i, n_init=10, max_iter=1000)\n",
    "    kmean.fit(X_scaled)\n",
    "    cost.append(kmean.inertia_)  \n",
    "\n",
    "plt.title(\"Elbow Method\")\n",
    "plt.plot(cost, 'bx-');"
   ]
  },
  {
   "cell_type": "code",
   "execution_count": 58,
   "metadata": {},
   "outputs": [],
   "source": [
    "kmean = KMeans(4, n_init=10, max_iter=1000)\n",
    "kmean.fit(X_scaled)\n",
    "labels = kmean.labels_"
   ]
  },
  {
   "cell_type": "code",
   "execution_count": 59,
   "metadata": {},
   "outputs": [
    {
     "data": {
      "text/html": [
       "<div>\n",
       "<style scoped>\n",
       "    .dataframe tbody tr th:only-of-type {\n",
       "        vertical-align: middle;\n",
       "    }\n",
       "\n",
       "    .dataframe tbody tr th {\n",
       "        vertical-align: top;\n",
       "    }\n",
       "\n",
       "    .dataframe thead th {\n",
       "        text-align: right;\n",
       "    }\n",
       "</style>\n",
       "<table border=\"1\" class=\"dataframe\">\n",
       "  <thead>\n",
       "    <tr style=\"text-align: right;\">\n",
       "      <th></th>\n",
       "      <th>logkpl</th>\n",
       "      <th>MLogP</th>\n",
       "      <th>nSmallRings</th>\n",
       "      <th>nAromRings</th>\n",
       "      <th>nRingBlocks</th>\n",
       "      <th>nAromBlocks</th>\n",
       "      <th>nRings3</th>\n",
       "      <th>nRings5</th>\n",
       "      <th>nRings6</th>\n",
       "      <th>WPATH</th>\n",
       "      <th>...</th>\n",
       "      <th>Kier3</th>\n",
       "      <th>naAromAtom</th>\n",
       "      <th>ATSp1</th>\n",
       "      <th>ATSp2</th>\n",
       "      <th>ATSp3</th>\n",
       "      <th>ATSp4</th>\n",
       "      <th>ATSp5</th>\n",
       "      <th>nB</th>\n",
       "      <th>MolIP</th>\n",
       "      <th>cluster</th>\n",
       "    </tr>\n",
       "  </thead>\n",
       "  <tbody>\n",
       "    <tr>\n",
       "      <th>0</th>\n",
       "      <td>-2.250000</td>\n",
       "      <td>1.68</td>\n",
       "      <td>1.0</td>\n",
       "      <td>1.0</td>\n",
       "      <td>1.0</td>\n",
       "      <td>1.0</td>\n",
       "      <td>0.0</td>\n",
       "      <td>0.0</td>\n",
       "      <td>1.0</td>\n",
       "      <td>120.0</td>\n",
       "      <td>...</td>\n",
       "      <td>2.285714</td>\n",
       "      <td>6.0</td>\n",
       "      <td>373.777514</td>\n",
       "      <td>409.011832</td>\n",
       "      <td>503.255946</td>\n",
       "      <td>390.565769</td>\n",
       "      <td>173.603316</td>\n",
       "      <td>10.0</td>\n",
       "      <td>8.519901</td>\n",
       "      <td>0</td>\n",
       "    </tr>\n",
       "    <tr>\n",
       "      <th>1</th>\n",
       "      <td>-1.892027</td>\n",
       "      <td>2.12</td>\n",
       "      <td>1.0</td>\n",
       "      <td>1.0</td>\n",
       "      <td>1.0</td>\n",
       "      <td>1.0</td>\n",
       "      <td>0.0</td>\n",
       "      <td>0.0</td>\n",
       "      <td>1.0</td>\n",
       "      <td>64.0</td>\n",
       "      <td>...</td>\n",
       "      <td>1.800000</td>\n",
       "      <td>6.0</td>\n",
       "      <td>463.175094</td>\n",
       "      <td>476.652907</td>\n",
       "      <td>530.316455</td>\n",
       "      <td>392.280643</td>\n",
       "      <td>151.974579</td>\n",
       "      <td>8.0</td>\n",
       "      <td>8.338537</td>\n",
       "      <td>0</td>\n",
       "    </tr>\n",
       "    <tr>\n",
       "      <th>2</th>\n",
       "      <td>-1.545120</td>\n",
       "      <td>2.12</td>\n",
       "      <td>1.0</td>\n",
       "      <td>1.0</td>\n",
       "      <td>1.0</td>\n",
       "      <td>1.0</td>\n",
       "      <td>0.0</td>\n",
       "      <td>0.0</td>\n",
       "      <td>1.0</td>\n",
       "      <td>64.0</td>\n",
       "      <td>...</td>\n",
       "      <td>1.800000</td>\n",
       "      <td>6.0</td>\n",
       "      <td>463.175094</td>\n",
       "      <td>476.652907</td>\n",
       "      <td>530.316455</td>\n",
       "      <td>392.280643</td>\n",
       "      <td>151.974579</td>\n",
       "      <td>8.0</td>\n",
       "      <td>8.338537</td>\n",
       "      <td>0</td>\n",
       "    </tr>\n",
       "    <tr>\n",
       "      <th>3</th>\n",
       "      <td>-2.222060</td>\n",
       "      <td>2.12</td>\n",
       "      <td>1.0</td>\n",
       "      <td>1.0</td>\n",
       "      <td>1.0</td>\n",
       "      <td>1.0</td>\n",
       "      <td>0.0</td>\n",
       "      <td>0.0</td>\n",
       "      <td>1.0</td>\n",
       "      <td>64.0</td>\n",
       "      <td>...</td>\n",
       "      <td>1.800000</td>\n",
       "      <td>6.0</td>\n",
       "      <td>343.647962</td>\n",
       "      <td>360.656857</td>\n",
       "      <td>405.171149</td>\n",
       "      <td>284.539313</td>\n",
       "      <td>96.667566</td>\n",
       "      <td>8.0</td>\n",
       "      <td>8.556987</td>\n",
       "      <td>0</td>\n",
       "    </tr>\n",
       "    <tr>\n",
       "      <th>4</th>\n",
       "      <td>-1.824345</td>\n",
       "      <td>2.45</td>\n",
       "      <td>0.0</td>\n",
       "      <td>0.0</td>\n",
       "      <td>0.0</td>\n",
       "      <td>0.0</td>\n",
       "      <td>0.0</td>\n",
       "      <td>0.0</td>\n",
       "      <td>0.0</td>\n",
       "      <td>298.0</td>\n",
       "      <td>...</td>\n",
       "      <td>7.100592</td>\n",
       "      <td>0.0</td>\n",
       "      <td>588.801978</td>\n",
       "      <td>590.026029</td>\n",
       "      <td>630.062246</td>\n",
       "      <td>602.270174</td>\n",
       "      <td>511.259323</td>\n",
       "      <td>12.0</td>\n",
       "      <td>8.506996</td>\n",
       "      <td>2</td>\n",
       "    </tr>\n",
       "  </tbody>\n",
       "</table>\n",
       "<p>5 rows × 170 columns</p>\n",
       "</div>"
      ],
      "text/plain": [
       "     logkpl  MLogP  nSmallRings  nAromRings  nRingBlocks  nAromBlocks  \\\n",
       "0 -2.250000   1.68          1.0         1.0          1.0          1.0   \n",
       "1 -1.892027   2.12          1.0         1.0          1.0          1.0   \n",
       "2 -1.545120   2.12          1.0         1.0          1.0          1.0   \n",
       "3 -2.222060   2.12          1.0         1.0          1.0          1.0   \n",
       "4 -1.824345   2.45          0.0         0.0          0.0          0.0   \n",
       "\n",
       "   nRings3  nRings5  nRings6  WPATH  ...     Kier3  naAromAtom       ATSp1  \\\n",
       "0      0.0      0.0      1.0  120.0  ...  2.285714         6.0  373.777514   \n",
       "1      0.0      0.0      1.0   64.0  ...  1.800000         6.0  463.175094   \n",
       "2      0.0      0.0      1.0   64.0  ...  1.800000         6.0  463.175094   \n",
       "3      0.0      0.0      1.0   64.0  ...  1.800000         6.0  343.647962   \n",
       "4      0.0      0.0      0.0  298.0  ...  7.100592         0.0  588.801978   \n",
       "\n",
       "        ATSp2       ATSp3       ATSp4       ATSp5    nB     MolIP  cluster  \n",
       "0  409.011832  503.255946  390.565769  173.603316  10.0  8.519901        0  \n",
       "1  476.652907  530.316455  392.280643  151.974579   8.0  8.338537        0  \n",
       "2  476.652907  530.316455  392.280643  151.974579   8.0  8.338537        0  \n",
       "3  360.656857  405.171149  284.539313   96.667566   8.0  8.556987        0  \n",
       "4  590.026029  630.062246  602.270174  511.259323  12.0  8.506996        2  \n",
       "\n",
       "[5 rows x 170 columns]"
      ]
     },
     "execution_count": 59,
     "metadata": {},
     "output_type": "execute_result"
    }
   ],
   "source": [
    "# adding clusters to our data\n",
    "clusters = pd.concat([without_compound, pd.DataFrame({'cluster': labels})], axis=1)\n",
    "clusters.head()"
   ]
  },
  {
   "cell_type": "code",
   "execution_count": 86,
   "metadata": {},
   "outputs": [
    {
     "name": "stdout",
     "output_type": "stream",
     "text": [
      "Explained variance ratio [0.44922987 0.08813972]\n",
      "\n",
      "nSum of Explained variance ratio 0.5373695934217562\n",
      "\n",
      "Columns chosen by PCA {'PC1': 'ATSp2', 'PC2': 'C2SP2'}\n"
     ]
    },
    {
     "data": {
      "text/html": [
       "<div>\n",
       "<style scoped>\n",
       "    .dataframe tbody tr th:only-of-type {\n",
       "        vertical-align: middle;\n",
       "    }\n",
       "\n",
       "    .dataframe tbody tr th {\n",
       "        vertical-align: top;\n",
       "    }\n",
       "\n",
       "    .dataframe thead th {\n",
       "        text-align: right;\n",
       "    }\n",
       "</style>\n",
       "<table border=\"1\" class=\"dataframe\">\n",
       "  <thead>\n",
       "    <tr style=\"text-align: right;\">\n",
       "      <th></th>\n",
       "      <th>PCA1</th>\n",
       "      <th>PCA2</th>\n",
       "      <th>cluster</th>\n",
       "      <th>compound</th>\n",
       "    </tr>\n",
       "  </thead>\n",
       "  <tbody>\n",
       "    <tr>\n",
       "      <th>0</th>\n",
       "      <td>-7.327199</td>\n",
       "      <td>-1.450374</td>\n",
       "      <td>0</td>\n",
       "      <td>p-Nitrophenol; 4-nitrophenol</td>\n",
       "    </tr>\n",
       "    <tr>\n",
       "      <th>1</th>\n",
       "      <td>-7.324766</td>\n",
       "      <td>-4.397774</td>\n",
       "      <td>0</td>\n",
       "      <td>Benzyl bromide</td>\n",
       "    </tr>\n",
       "    <tr>\n",
       "      <th>2</th>\n",
       "      <td>-7.329245</td>\n",
       "      <td>-4.432410</td>\n",
       "      <td>0</td>\n",
       "      <td>Benzyl bromide</td>\n",
       "    </tr>\n",
       "    <tr>\n",
       "      <th>3</th>\n",
       "      <td>-8.007982</td>\n",
       "      <td>-2.118530</td>\n",
       "      <td>0</td>\n",
       "      <td>Benzyl alcohol</td>\n",
       "    </tr>\n",
       "    <tr>\n",
       "      <th>4</th>\n",
       "      <td>-4.469871</td>\n",
       "      <td>2.147807</td>\n",
       "      <td>2</td>\n",
       "      <td>2-Ethylhexyl acrylate</td>\n",
       "    </tr>\n",
       "    <tr>\n",
       "      <th>...</th>\n",
       "      <td>...</td>\n",
       "      <td>...</td>\n",
       "      <td>...</td>\n",
       "      <td>...</td>\n",
       "    </tr>\n",
       "    <tr>\n",
       "      <th>441</th>\n",
       "      <td>-6.390847</td>\n",
       "      <td>-1.667954</td>\n",
       "      <td>0</td>\n",
       "      <td>Methylparaben</td>\n",
       "    </tr>\n",
       "    <tr>\n",
       "      <th>442</th>\n",
       "      <td>0.479389</td>\n",
       "      <td>-7.911524</td>\n",
       "      <td>3</td>\n",
       "      <td>1-(diphenylmethyl)-4-methylpiperazine</td>\n",
       "    </tr>\n",
       "    <tr>\n",
       "      <th>443</th>\n",
       "      <td>1.217783</td>\n",
       "      <td>-7.776306</td>\n",
       "      <td>3</td>\n",
       "      <td>1-(diphenylmethyl)-4-ethylpiperazine</td>\n",
       "    </tr>\n",
       "    <tr>\n",
       "      <th>444</th>\n",
       "      <td>1.764531</td>\n",
       "      <td>-7.670935</td>\n",
       "      <td>3</td>\n",
       "      <td>1-(diphenylmethyl)-4-propylpiperazine</td>\n",
       "    </tr>\n",
       "    <tr>\n",
       "      <th>445</th>\n",
       "      <td>2.462797</td>\n",
       "      <td>-7.641354</td>\n",
       "      <td>3</td>\n",
       "      <td>1-(diphenylmethyl)-4-butylpiperazine</td>\n",
       "    </tr>\n",
       "  </tbody>\n",
       "</table>\n",
       "<p>446 rows × 4 columns</p>\n",
       "</div>"
      ],
      "text/plain": [
       "         PCA1      PCA2 cluster                               compound\n",
       "0   -7.327199 -1.450374       0           p-Nitrophenol; 4-nitrophenol\n",
       "1   -7.324766 -4.397774       0                         Benzyl bromide\n",
       "2   -7.329245 -4.432410       0                         Benzyl bromide\n",
       "3   -8.007982 -2.118530       0                         Benzyl alcohol\n",
       "4   -4.469871  2.147807       2                  2-Ethylhexyl acrylate\n",
       "..        ...       ...     ...                                    ...\n",
       "441 -6.390847 -1.667954       0                          Methylparaben\n",
       "442  0.479389 -7.911524       3  1-(diphenylmethyl)-4-methylpiperazine\n",
       "443  1.217783 -7.776306       3   1-(diphenylmethyl)-4-ethylpiperazine\n",
       "444  1.764531 -7.670935       3  1-(diphenylmethyl)-4-propylpiperazine\n",
       "445  2.462797 -7.641354       3   1-(diphenylmethyl)-4-butylpiperazine\n",
       "\n",
       "[446 rows x 4 columns]"
      ]
     },
     "execution_count": 86,
     "metadata": {},
     "output_type": "execute_result"
    }
   ],
   "source": [
    "# using pca with 2 components to visualize our scaled data with clusters\n",
    "components = 2\n",
    "\n",
    "# initilizing and fitting the pca\n",
    "pca = PCA(n_components=components)\n",
    "X_pca = pca.fit_transform(X_scaled)\n",
    "\n",
    "# making dataframe for our pca components\n",
    "pca_df = pd.DataFrame(X_pca, columns=['PCA1','PCA2'])\n",
    "\n",
    "# adding cluster assignment\n",
    "pca_df['cluster'] = pd.Categorical(kmean.labels_)\n",
    "\n",
    "# adding compound name to this dataframe\n",
    "pca_df['compound'] = data['Compound']\n",
    "\n",
    "# get the index of the most important feature on EACH component i.e. largest absolute value\n",
    "most_important = [np.abs(pca.components_[i]).argmax() for i in range(components)]\n",
    "\n",
    "# columns/ features of our data\n",
    "initial_feature_names = without_compound.columns\n",
    "\n",
    "# get the names\n",
    "most_important_names = [initial_feature_names[most_important[i]] for i in range(components)]\n",
    "\n",
    "# using LIST COMPREHENSION HERE AGAIN\n",
    "dic = {'PC{}'.format(i + 1): most_important_names[i] for i in range(components)}\n",
    "\n",
    "# explained variance\n",
    "print(\"Explained variance ratio\", pca.explained_variance_ratio_)\n",
    "print(\"\\nnSum of Explained variance ratio\", pca.explained_variance_ratio_.sum())\n",
    "print(\"\\nColumns chosen by PCA\", dic)\n",
    "\n",
    "\n",
    "pca_df"
   ]
  },
  {
   "cell_type": "code",
   "execution_count": 64,
   "metadata": {},
   "outputs": [
    {
     "data": {
      "application/vnd.plotly.v1+json": {
       "config": {
        "plotlyServerURL": "https://plot.ly"
       },
       "data": [
        {
         "customdata": [
          [
           "p-Nitrophenol; 4-nitrophenol"
          ],
          [
           "Benzyl bromide"
          ],
          [
           "Benzyl bromide"
          ],
          [
           "Benzyl alcohol"
          ],
          [
           "Cinnamyl alcohol"
          ],
          [
           "Cinnamyl alcohol"
          ],
          [
           "p-Tolunitrile"
          ],
          [
           "p-Tolunitrile"
          ],
          [
           "5-phenylpentanol"
          ],
          [
           "p-Bromophenol"
          ],
          [
           "p-Cresol"
          ],
          [
           "p-Cresol"
          ],
          [
           "p-Chlorophenol"
          ],
          [
           "p-Phenylenediamine"
          ],
          [
           "m-Cresol"
          ],
          [
           "Resorcinol; 1,3-Benzenediol"
          ],
          [
           "resorcinol"
          ],
          [
           "Resorcinol"
          ],
          [
           "Resorcinol"
          ],
          [
           "phloroglucinol"
          ],
          [
           "Toluene"
          ],
          [
           "Phenol"
          ],
          [
           "Phenol"
          ],
          [
           "Phenol"
          ],
          [
           "phenol"
          ],
          [
           "4-Amino-2-Nitrophenol"
          ],
          [
           "methyl salicylate"
          ],
          [
           "Benzophenone"
          ],
          [
           "Benzophenone"
          ],
          [
           "catechol"
          ],
          [
           "2,4-Dichlorophenol"
          ],
          [
           "2,4-dichlorophenol"
          ],
          [
           "2,4-dichlorophenol"
          ],
          [
           "2,4-dichlorophenol"
          ],
          [
           "2,4-dichlorophenol"
          ],
          [
           "Benzylideneacetone"
          ],
          [
           "Benzylideneacetone"
          ],
          [
           "p-Ethylphenol"
          ],
          [
           "Hydroquinone"
          ],
          [
           "hydroquinone"
          ],
          [
           "Hydroquinone"
          ],
          [
           "Hydroquinone"
          ],
          [
           "Dimethyl phthalate"
          ],
          [
           "Dimethyl phthalate"
          ],
          [
           "Beta-naphthol; 2-naphthol"
          ],
          [
           "Beta-naphthol; 2-naphthol"
          ],
          [
           "Methyl 4-hydroxyphenylacetate"
          ],
          [
           "trans-Cinnamaldehyde"
          ],
          [
           "trans-Cinnamaldehyde"
          ],
          [
           "p-n-butylphenol; 4-Butylphenol"
          ],
          [
           "alfa-(4-Hydroxyphenyl) acetamide"
          ],
          [
           "4-propoxyphenol"
          ],
          [
           "4-propoxyphenol"
          ],
          [
           "4-Bromophenyl isocyanate"
          ],
          [
           "4-Bromophenyl isocyanate"
          ],
          [
           "HC Red No. 3; 2-(4-Amino-2-nitroanilino)-ethanol"
          ],
          [
           "HC Red No. 3; 2-(4-Amino-2-nitroanilino)-ethanol"
          ],
          [
           "7-Ethoxycoumarin"
          ],
          [
           "7-Ethoxycoumarin"
          ],
          [
           "4-phenylbutanol"
          ],
          [
           "Iso-thymol; Carvacrol"
          ],
          [
           "5-Fluorouracil (+ - + -)"
          ],
          [
           "5-Fluorouracil"
          ],
          [
           "5-Fluorouracil"
          ],
          [
           "5-Fluorouracil"
          ],
          [
           "5-Fluorouracil"
          ],
          [
           "5-Fluorouracil"
          ],
          [
           "5-Fluorouracil"
          ],
          [
           "5-Fluorouracil"
          ],
          [
           "5-Fluorouracil"
          ],
          [
           "5-Fluorouracil"
          ],
          [
           "5-Fluorouracil"
          ],
          [
           "5-Fluorouracil"
          ],
          [
           "5-Fluorouracil"
          ],
          [
           "5-Fluorouracil"
          ],
          [
           "5-Fluorouracil"
          ],
          [
           "5-Fluorouracil"
          ],
          [
           "5-Fluorouracil"
          ],
          [
           "5-Fluorouracil"
          ],
          [
           "5-Fluorouracil"
          ],
          [
           "5-Fluorouracil"
          ],
          [
           "5-Fluorouracil"
          ],
          [
           "5-Fluorouracil"
          ],
          [
           "5-Fluorouracil"
          ],
          [
           "1,2,4-Benzenetriol"
          ],
          [
           "m-Nitrophenol; 3-nitrophenol"
          ],
          [
           "Caffeine"
          ],
          [
           "Caffeine"
          ],
          [
           "caffeine"
          ],
          [
           "Caffeine"
          ],
          [
           "Caffeine"
          ],
          [
           "Caffeine"
          ],
          [
           "Caffeine"
          ],
          [
           "Chlorocresol"
          ],
          [
           "chlorocresol"
          ],
          [
           "chlorocresol"
          ],
          [
           "2-Phenylethanol"
          ],
          [
           "2-phenylethanol"
          ],
          [
           "4-Amino-3-nitrophenol"
          ],
          [
           "4-Amino-3-nitrophenol"
          ],
          [
           "Nicotinate, ethyl"
          ],
          [
           "Nicotinate, ethyl"
          ],
          [
           "4-Hydroxybenzyl alcohol"
          ],
          [
           "salicylate"
          ],
          [
           "salicylate"
          ],
          [
           "salicylate"
          ],
          [
           "Benzoic acid"
          ],
          [
           "Benzoic acid"
          ],
          [
           "benzoic acid"
          ],
          [
           "Salicylic acid"
          ],
          [
           "Salicylic acid"
          ],
          [
           "Benzene"
          ],
          [
           "Benzene"
          ],
          [
           "3-Methyl-3H-imidazo[4,5-f]quinolin-2-amine"
          ],
          [
           "3-Methyl-3H-imidazo[4,5-f]quinolin-2-amine"
          ],
          [
           "Diethyl phthalate"
          ],
          [
           "pyrogallol"
          ],
          [
           "Chloroxylenol"
          ],
          [
           "chloroxylenol"
          ],
          [
           "2,4,6-Trichlorophenol"
          ],
          [
           "o-t-butylphenol"
          ],
          [
           "Thymol; 2-Isopropyl-5-methylphenol"
          ],
          [
           "Thymol; 2-Isopropyl-5-methylphenol"
          ],
          [
           "Naphthol"
          ],
          [
           "Naphthol"
          ],
          [
           "Naphthalene"
          ],
          [
           "Naphthalene"
          ],
          [
           "6-Methylcoumarin"
          ],
          [
           "6-Methylcoumarin"
          ],
          [
           "Nicotinate, methyl"
          ],
          [
           "Nicotinate, methyl"
          ],
          [
           "2,4-Dichloroacetophenone"
          ],
          [
           "2,4-Dichloroacetophenone"
          ],
          [
           "propylparaben"
          ],
          [
           "propylparaben"
          ],
          [
           "propylparaben"
          ],
          [
           "propylparaben"
          ],
          [
           "propylparaben"
          ],
          [
           "propylparaben"
          ],
          [
           "Propylparaben"
          ],
          [
           "Propylparaben"
          ],
          [
           "Butylparaben"
          ],
          [
           "Butylparaben"
          ],
          [
           "o-Cresol"
          ],
          [
           "o-Phenylenediamine"
          ],
          [
           "o-Chlorophenol"
          ],
          [
           "3,4-Xylenol"
          ],
          [
           "2,4-Dinitrochlorobenzene"
          ],
          [
           "2,4-Dinitrochlorobenzene"
          ],
          [
           "Eugenol"
          ],
          [
           "Eugenol"
          ],
          [
           "Isoeugenol"
          ],
          [
           "Isoeugenol"
          ],
          [
           "Acetophenone"
          ],
          [
           "Acetophenone"
          ],
          [
           "Methylparaben"
          ],
          [
           "Methylparaben"
          ],
          [
           "Methylparaben"
          ],
          [
           "Methylparaben"
          ]
         ],
         "hovertemplate": "cluster=0<br>PCA1=%{x}<br>PCA2=%{y}<br>compound=%{customdata[0]}<extra></extra>",
         "legendgroup": "0",
         "marker": {
          "color": "#636efa",
          "symbol": "circle"
         },
         "mode": "markers",
         "name": "0",
         "orientation": "v",
         "showlegend": true,
         "type": "scatter",
         "x": [
          -7.327199162309212,
          -7.324766429264743,
          -7.329244658365007,
          -8.007981610590946,
          -6.884258150490505,
          -6.883426865913459,
          -7.388860634095007,
          -7.391021601987565,
          -5.578226571329885,
          -7.463922254724509,
          -7.7613453252643945,
          -7.772033134601818,
          -8.034151055061397,
          -8.522200676723305,
          -7.953812191539323,
          -8.478117245185805,
          -8.485254802636502,
          -8.494466301162776,
          -8.493642647959623,
          -8.01402965219063,
          -8.474091874660035,
          -8.973202500514043,
          -8.945861793125617,
          -8.968308535355275,
          -8.96907117433541,
          -7.039349816784663,
          -6.2419753483352185,
          -4.4896798483182305,
          -4.488247149171881,
          -8.360946446337149,
          -7.115030927306383,
          -7.117612709391672,
          -7.114756710788894,
          -7.115936705162162,
          -7.115567465972145,
          -6.209010523045661,
          -6.205275756630378,
          -6.950271983775584,
          -8.241722315427584,
          -8.268574559262264,
          -8.275462250786495,
          -8.282079289616327,
          -4.433308506393739,
          -4.434537910361991,
          -5.799628728403687,
          -5.804195110211846,
          -5.710223729123682,
          -7.030355325488338,
          -7.028177013052076,
          -5.744731161950763,
          -6.607786371709468,
          -6.141499113348603,
          -6.141473435688291,
          -6.917920468558679,
          -6.916763102039005,
          -5.115765393702399,
          -5.107347157587941,
          -4.1697375463811985,
          -4.17151090416219,
          -6.053908055123534,
          -4.709701675917172,
          -8.22335785361479,
          -8.22329189630549,
          -8.221133655580356,
          -8.223933764086844,
          -8.224680532667414,
          -8.22059687943309,
          -8.217578930532387,
          -8.225128280572866,
          -8.215351534832594,
          -8.225576104940991,
          -8.221510692186282,
          -8.218430001588239,
          -8.217891714001556,
          -8.214776024168476,
          -8.219168740562559,
          -8.22329189630549,
          -8.222355339883691,
          -8.222825154553542,
          -8.211600637464317,
          -8.217049185890785,
          -8.221601118447065,
          -8.224482875064464,
          -8.22075555908095,
          -7.657427396284301,
          -7.5069040497365584,
          -3.469305812284954,
          -3.467353098156891,
          -3.4628604239889063,
          -3.482851090262614,
          -3.495813199550462,
          -3.4572971147154967,
          -3.468746048721906,
          -6.899285111731435,
          -6.896966275446043,
          -6.891573962087486,
          -7.2096308726723395,
          -7.220676265743252,
          -7.051881781922555,
          -7.053650054537015,
          -6.53903079592507,
          -6.539311169677319,
          -7.337917932541897,
          -7.355122700455139,
          -7.361879291686432,
          -7.35830811878016,
          -7.706777413872371,
          -7.706777413872371,
          -7.698895849611177,
          -7.136568478319345,
          -7.114820307622793,
          -9.747560418723113,
          -9.749605280485744,
          -2.8192582415622174,
          -2.8238845694559442,
          -3.107487497733851,
          -7.766737557425242,
          -5.722662773648927,
          -5.7243927039575455,
          -6.142407061340211,
          -3.4703809518639783,
          -4.7008152405392725,
          -4.701626264154208,
          -5.888654441492716,
          -5.889456708700639,
          -6.40010584746348,
          -6.403088947233744,
          -5.200991645291588,
          -5.202935315694278,
          -7.048358971927402,
          -7.047919035989779,
          -5.949204678525853,
          -5.963620842789998,
          -5.136548275438929,
          -5.140394082320223,
          -5.139523140118952,
          -5.139662723427586,
          -5.1384631728527586,
          -5.1384631728527586,
          -5.14495159508778,
          -5.144136244149084,
          -4.459712513830503,
          -4.457503424881317,
          -7.876863454842117,
          -8.65862340945415,
          -8.10984680302963,
          -6.595356610921565,
          -5.838766861198889,
          -5.837800160122623,
          -5.378309946584524,
          -5.377822803466216,
          -5.179612067700155,
          -5.175317567240701,
          -7.207553029136693,
          -7.206685068858671,
          -6.389925338310935,
          -6.389386034430499,
          -6.394577239671175,
          -6.390846651569645
         ],
         "xaxis": "x",
         "y": [
          -1.450374085197092,
          -4.397774414477189,
          -4.432410310701386,
          -2.118529898864794,
          -2.481281966445368,
          -2.474852575340433,
          -3.658924117315982,
          -3.6756376569751557,
          -2.0104188423069314,
          -3.573864698018393,
          -2.752231347837687,
          -2.834893901893547,
          -3.042260604125617,
          -2.1132235145340132,
          -2.8261643954796805,
          -2.0196438463095148,
          -2.074847743569405,
          -2.1460920903597045,
          -2.1397217224686234,
          -1.7435134490328323,
          -3.9179812318007605,
          -2.6893924736407526,
          -2.4779316746058986,
          -2.6515411566203504,
          -2.657439623175113,
          -1.2717627347803113,
          -1.9982811136628444,
          -7.476145431748116,
          -7.465064529489083,
          -2.001250485137971,
          -3.474355402887224,
          -3.4943236390756165,
          -3.47223453443006,
          -3.4813609461750668,
          -3.478505145370574,
          -3.048144715613148,
          -3.0192589710285036,
          -2.655450535888663,
          -1.6612088257261988,
          -1.8688917088532264,
          -1.9221630720454277,
          -1.9733411304007595,
          -1.2398644200500022,
          -1.2493729796409812,
          -5.923868789811576,
          -5.959186484124799,
          -1.2969899902378013,
          -2.9132704735202006,
          -2.896422786231937,
          -2.687625553775624,
          -1.2366975887602085,
          -1.5671357946009887,
          -1.566937196280549,
          -3.9952796278498566,
          -3.9863282263534368,
          -0.7518884220959112,
          -0.6867793921817514,
          -3.7503693680097054,
          -3.7640850209376255,
          -1.944099149762086,
          -2.9514502606172166,
          0.6251026161681797,
          0.6256127487382571,
          0.6423051957097854,
          0.6206483609486051,
          0.6148726405731313,
          0.6464567749425337,
          0.6697984492059672,
          0.6114096310574219,
          0.6870257603999321,
          0.6079460301577039,
          0.6393890874753019,
          0.6632160238521125,
          0.6673792929867502,
          0.6914769233914196,
          0.657502406732794,
          0.6256127487382569,
          0.6328563422005782,
          0.6292226620594068,
          0.7160362663580827,
          0.6738956447760901,
          0.638689705082263,
          0.6164013806332327,
          0.645229501461699,
          -1.2448455664721612,
          -1.5335938228276373,
          -2.642811542170813,
          -2.6277086962956573,
          -2.5929610778134777,
          -2.7475745705596832,
          -2.847827206610587,
          -2.549932863235138,
          -2.638482171733166,
          -3.1919594390266997,
          -3.174024900363377,
          -3.132319216774144,
          -1.9137059539993055,
          -1.999134162247527,
          -1.4806510990982233,
          -1.4943274219033766,
          -1.5072117633943556,
          -1.5093802536545775,
          -1.4718897638467678,
          -1.7594597264368168,
          -1.8117171227149522,
          -1.7840966568095487,
          -2.309732690958899,
          -2.309732690958899,
          -2.248774433638032,
          -1.898681612100477,
          -1.7304750808025586,
          -3.8889767341239376,
          -3.9047922759860825,
          -7.3951003374356015,
          -7.430881671806597,
          -0.9814524672018474,
          -1.4605752994543006,
          -3.3736519571042822,
          -3.3870317296220933,
          -3.8882204352358896,
          -2.771574609059462,
          -2.98134563948029,
          -2.987618326547761,
          -6.086178538360372,
          -6.09238350088815,
          -6.957548830353577,
          -6.980620971540706,
          -4.783106061496529,
          -4.798138960630204,
          -1.6282633341350439,
          -1.6248607445980339,
          -3.206422665591104,
          -3.317921375957451,
          -1.4911400283610317,
          -1.5208845914588294,
          -1.514148477020441,
          -1.5152280539880951,
          -1.505950389023834,
          -1.505950389023834,
          -1.556133690092096,
          -1.549827534273165,
          -1.5431524161630592,
          -1.5260666945795593,
          -2.8866862545694767,
          -2.2198059697450256,
          -3.229814729601878,
          -2.993725768847242,
          -2.238692987624164,
          -2.23121624683934,
          -2.2443883152086976,
          -2.2406206119236756,
          -2.3989833162138323,
          -2.3657684294989454,
          -2.7602513650746974,
          -2.7535383136779905,
          -1.6608282197056967,
          -1.6566570902663835,
          -1.6968073465326832,
          -1.6679539182137533
         ],
         "yaxis": "y"
        },
        {
         "customdata": [
          [
           "2-Ethylhexyl acrylate"
          ],
          [
           "2-Ethylhexyl acrylate"
          ],
          [
           "Geraniol"
          ],
          [
           "Geraniol"
          ],
          [
           "2-Ethoxy ethanol"
          ],
          [
           "Hexanol"
          ],
          [
           "n-hexanol"
          ],
          [
           "Hexanol"
          ],
          [
           "butoxyethanol"
          ],
          [
           "butoxyethanol"
          ],
          [
           "butoxyethanol"
          ],
          [
           "butoxyethanol"
          ],
          [
           "butoxyethanol"
          ],
          [
           "Octanol"
          ],
          [
           "Octanol"
          ],
          [
           "Octanol"
          ],
          [
           "n-octanol"
          ],
          [
           "Octanol"
          ],
          [
           "Decanol"
          ],
          [
           "decanol"
          ],
          [
           "decanol"
          ],
          [
           "decanol"
          ],
          [
           "decanol"
          ],
          [
           "decanol"
          ],
          [
           "Decanol"
          ],
          [
           "n-decanol"
          ],
          [
           "Decanol "
          ],
          [
           "Diethylene glycol monobutyl ether"
          ],
          [
           "Diethylene glycol monobutyl ether"
          ],
          [
           "oleic acid"
          ],
          [
           "Diethyl maleate"
          ],
          [
           "Diethyl maleate"
          ],
          [
           "Nonanol"
          ],
          [
           "n-nonanol"
          ],
          [
           "Methylglucose"
          ],
          [
           "linolenic acid"
          ],
          [
           "2,3-Butanediol"
          ],
          [
           "Heptanol"
          ],
          [
           "Heptanol"
          ],
          [
           "n-heptanol"
          ],
          [
           "Glycerol"
          ],
          [
           "Glycerol"
          ],
          [
           "Urea"
          ],
          [
           "Urea"
          ],
          [
           "Urea"
          ],
          [
           "Urea"
          ],
          [
           "Urea"
          ],
          [
           "urea"
          ],
          [
           "urea"
          ],
          [
           "Cyclophosphamide monohydrate"
          ],
          [
           "Cyclophosphamide monohydrate"
          ],
          [
           "Ethanol"
          ],
          [
           "ethanol"
          ],
          [
           "Ethanol"
          ],
          [
           "acetic acid"
          ],
          [
           "acetic acid"
          ],
          [
           "acetic acid"
          ],
          [
           "acetic acid"
          ],
          [
           "acetic acid"
          ],
          [
           "Methyl methanesulfonate"
          ],
          [
           "Methyl methanesulfonate"
          ],
          [
           "Methanol"
          ],
          [
           "Methanol"
          ],
          [
           "methanol"
          ],
          [
           "Ethyl ether"
          ],
          [
           "Mannitol"
          ],
          [
           "Mannitol"
          ],
          [
           "Mannitol"
          ],
          [
           "Mannitol"
          ],
          [
           "Mannitol"
          ],
          [
           "Mannitol"
          ],
          [
           "Mannitol"
          ],
          [
           "Mannitol"
          ],
          [
           "Mannitol"
          ],
          [
           "Mannitol"
          ],
          [
           "Mannitol"
          ],
          [
           "Mannitol"
          ],
          [
           "Mannitol"
          ],
          [
           "Propanol"
          ],
          [
           "Propanol"
          ],
          [
           "n-propanol"
          ],
          [
           "Butanol"
          ],
          [
           "Butanol"
          ],
          [
           "Butanol"
          ],
          [
           "Butanol"
          ],
          [
           "n-butanol"
          ],
          [
           "Butanol"
          ],
          [
           "Pentanol"
          ],
          [
           "n-pentanol"
          ],
          [
           "2-Butanone"
          ]
         ],
         "hovertemplate": "cluster=2<br>PCA1=%{x}<br>PCA2=%{y}<br>compound=%{customdata[0]}<extra></extra>",
         "legendgroup": "2",
         "marker": {
          "color": "#EF553B",
          "symbol": "circle"
         },
         "mode": "markers",
         "name": "2",
         "orientation": "v",
         "showlegend": true,
         "type": "scatter",
         "x": [
          -4.469871329593291,
          -4.466146506597369,
          -4.973581672927686,
          -4.973935314805524,
          -8.822992901505257,
          -7.861101394416998,
          -7.861101394417003,
          -7.866151479995006,
          -7.578788829651495,
          -7.581265879538292,
          -7.577640689378834,
          -7.578357362456589,
          -7.578577245800638,
          -6.683376503613982,
          -6.684271439156959,
          -6.685042986799663,
          -6.683376503613986,
          -6.686653818098727,
          -5.512422435444556,
          -5.501298786643048,
          -5.502015459720806,
          -5.50339943301148,
          -5.50232093719502,
          -5.503933771104069,
          -5.513082763257817,
          -5.512422435444558,
          -5.511800519100698,
          -5.838744387638963,
          -5.8378521524636575,
          -0.48866646940314634,
          -5.850112888426839,
          -5.849063169803626,
          -6.202630493486913,
          -6.202630493486911,
          -4.668616940987112,
          -0.7293160860369959,
          -8.480380848591883,
          -7.402720807129451,
          -7.401816688444979,
          -7.401816688444979,
          -8.856096880642776,
          -8.876269633784416,
          -11.082719461693872,
          -11.080912400934297,
          -11.079172304665898,
          -11.07758969350728,
          -11.077934252560645,
          -11.082690413408026,
          -11.082176062169491,
          -3.269181788765214,
          -3.264390806053766,
          -10.380085156119517,
          -10.380085156119517,
          -10.384934596985014,
          -10.265145032558678,
          -10.263894021388339,
          -10.259259407825684,
          -10.256782357938867,
          -10.2561220301256,
          -8.571737490955167,
          -8.573747596933755,
          -11.999455005970905,
          -12.005975986063282,
          -11.999455005970905,
          -8.947237827227847,
          -5.328941615521217,
          -5.326569734183605,
          -5.328997960785707,
          -5.316623300813859,
          -5.321225969522986,
          -5.320997108904605,
          -5.318362124443586,
          -5.31968739241643,
          -5.323099506970169,
          -5.339923324928066,
          -5.32018654220349,
          -5.323339915083103,
          -5.329351016819541,
          -9.98029827056219,
          -9.978345556434132,
          -9.978345556434132,
          -9.06128661914628,
          -9.06026446859431,
          -9.059547795516554,
          -9.059547795516554,
          -9.06026446859431,
          -9.066714928176648,
          -8.636283547480586,
          -8.636283547480586,
          -9.33707793002545
         ],
         "xaxis": "x",
         "y": [
          2.1478069075808817,
          2.1766157469349134,
          1.7218877959168395,
          1.7191526291562311,
          5.389544492865515,
          3.4825717888876495,
          3.4825717888876486,
          3.4435129921876793,
          4.873124056894276,
          4.853965849285635,
          4.882004099974656,
          4.8764611467688,
          4.874760506512334,
          3.1927948224801064,
          3.185873136719888,
          3.179905768037653,
          3.1927948224801055,
          3.16744714109838,
          2.996547880421885,
          3.08258134072456,
          3.0770383875187,
          3.066334344871566,
          3.0746757379403133,
          3.0622016222463406,
          2.991440717500526,
          2.9965478804218866,
          3.001357958125306,
          6.356543805332938,
          6.363444605682292,
          3.0336615856949303,
          3.95956408250244,
          3.9676829045823663,
          3.0583166181630084,
          3.0583166181630084,
          7.718088681784727,
          2.6303651242419788,
          4.588921631761672,
          3.268478850755416,
          3.275471561541046,
          3.275471561541046,
          6.03340759222284,
          5.877385787905104,
          4.768279403688713,
          4.782255725028746,
          4.795714123967905,
          4.807954488323163,
          4.805289570707561,
          4.768504071384723,
          4.772482210001928,
          2.91210642906194,
          2.9491612505753024,
          4.613327954026306,
          4.613327954026306,
          4.575821000540328,
          4.087505977234572,
          4.097181653065658,
          4.133027071154259,
          4.1521852787628974,
          4.157292441684256,
          4.403046063619385,
          4.38749933286597,
          5.2385658432564455,
          5.1881307304689255,
          5.2385658432564455,
          3.9222169549524257,
          8.481124259012715,
          8.499469063181184,
          8.480688468728212,
          8.576397604861965,
          8.540799257346814,
          8.542569330393647,
          8.562949048871866,
          8.55269904983231,
          8.526308786417339,
          8.396188598316472,
          8.54883848355984,
          8.524449401766692,
          8.47795783305165,
          4.117783194765067,
          4.132886040640224,
          4.132886040640224,
          3.892860125521856,
          3.900765728306104,
          3.9063086815119616,
          3.9063086815119616,
          3.900765728306104,
          3.850876041179628,
          3.608861033626313,
          3.608861033626313,
          3.144788894376468
         ],
         "yaxis": "y"
        },
        {
         "customdata": [
          [
           "bis(2-ethylhexyl)phthalate"
          ],
          [
           "octylparaben"
          ],
          [
           "octylparaben"
          ],
          [
           "octylparaben"
          ],
          [
           "octylparaben"
          ],
          [
           "octylparaben"
          ],
          [
           "Pindolol"
          ],
          [
           "Alprenolol"
          ],
          [
           "Lidocaine"
          ],
          [
           "Lidocaine"
          ],
          [
           "Lidocaine"
          ],
          [
           "Naltrexone"
          ],
          [
           "Timolol"
          ],
          [
           "Timolol"
          ],
          [
           "Atenolol"
          ],
          [
           "Diazinon"
          ],
          [
           "sotalol"
          ],
          [
           "sotalol"
          ],
          [
           "sotalol"
          ],
          [
           "sotalol"
          ],
          [
           "sotalol"
          ],
          [
           "sotalol"
          ],
          [
           "Sotalol"
          ],
          [
           "Sotalol"
          ],
          [
           "Nadolol"
          ],
          [
           "Fentanyl base"
          ],
          [
           "Fentanyl base"
          ],
          [
           "Estriol"
          ],
          [
           "Estriol"
          ],
          [
           "beta-Estradiol"
          ],
          [
           "Beta-estradiol"
          ],
          [
           "beta-Estradiol"
          ],
          [
           "beta-Estradiol"
          ],
          [
           "Beta-estradiol"
          ],
          [
           "beta-Estradiol"
          ],
          [
           "Estradiol"
          ],
          [
           "Estradiol"
          ],
          [
           "Estradiol"
          ],
          [
           "Estradiol"
          ],
          [
           "Estradiol"
          ],
          [
           "Estradiol"
          ],
          [
           "Estradiol"
          ],
          [
           "Estradiol"
          ],
          [
           "Estradiol"
          ],
          [
           "Estradiol"
          ],
          [
           "Estradiol"
          ],
          [
           "Estradiol"
          ],
          [
           "Estradiol"
          ],
          [
           "Estradiol"
          ],
          [
           "Estradiol"
          ],
          [
           "Estradiol"
          ],
          [
           "Estradiol"
          ],
          [
           "Estradiol"
          ],
          [
           "Beta-Estradiol"
          ],
          [
           "Estradiol"
          ],
          [
           "Estradiol"
          ],
          [
           "Estradiol"
          ],
          [
           "Estradiol"
          ],
          [
           "Estradiol"
          ],
          [
           "Estradiol"
          ],
          [
           "Estradiol"
          ],
          [
           "Estradiol"
          ],
          [
           "Estradiol"
          ],
          [
           "Estradiol"
          ],
          [
           "Metoprolol"
          ],
          [
           "Estrone"
          ],
          [
           "Estrone"
          ],
          [
           "2-(Acetylamino)fluorene"
          ],
          [
           "2-(Acetylamino)fluorene"
          ],
          [
           "Sufentanil base"
          ],
          [
           "ethacrynic acid"
          ],
          [
           "Methotrexate"
          ],
          [
           "Methotrexate"
          ],
          [
           "1-(diphenylmethyl)-4-methylpiperazine"
          ],
          [
           "1-(diphenylmethyl)-4-ethylpiperazine"
          ],
          [
           "1-(diphenylmethyl)-4-propylpiperazine"
          ],
          [
           "1-(diphenylmethyl)-4-butylpiperazine"
          ]
         ],
         "hovertemplate": "cluster=3<br>PCA1=%{x}<br>PCA2=%{y}<br>compound=%{customdata[0]}<extra></extra>",
         "legendgroup": "3",
         "marker": {
          "color": "#00cc96",
          "symbol": "circle"
         },
         "mode": "markers",
         "name": "3",
         "orientation": "v",
         "showlegend": true,
         "type": "scatter",
         "x": [
          5.351730605790576,
          -2.0532944083734583,
          -2.054861846839125,
          -2.0564403913041183,
          -2.0560116749957578,
          -2.053974794550252,
          -1.0401938990022896,
          -2.379965059407491,
          -1.5722330883475741,
          -1.5722330883475735,
          -1.573803716486701,
          11.999489838566332,
          3.081224782220198,
          3.081675953492492,
          -1.6467187336526228,
          0.3442672071722466,
          -1.0497708880736745,
          -1.0496503176928387,
          -1.0493584737658632,
          -1.0494434194307505,
          -1.0474377652811155,
          -1.0612879549942578,
          -1.0455574237993868,
          -1.0473644638717752,
          3.4137815940897887,
          3.086591959518456,
          3.0861803026149492,
          6.829728157627856,
          6.829728157627856,
          6.199154327447709,
          6.218653950060714,
          6.202628972439064,
          6.199154327447709,
          6.218653950060714,
          6.202628972439064,
          6.204538971643342,
          6.205954379989913,
          6.209375241116173,
          6.201877675269202,
          6.206722430545937,
          6.207090189025413,
          6.204007374350911,
          6.20572629538463,
          6.204817027303094,
          6.205348198885214,
          6.205159877750837,
          6.206377318122515,
          6.207258993804914,
          6.205227628504373,
          6.205858214568179,
          6.205278984344044,
          6.204599580953931,
          6.203509290792555,
          6.203993683729642,
          6.205744951996278,
          6.205383129257575,
          6.2037006508923405,
          6.205744951996278,
          6.205744951996278,
          6.200028935099675,
          6.233808148160442,
          6.198812004925627,
          6.201747936764284,
          6.203912234743189,
          -1.16020432988466,
          5.8885835194397895,
          5.8885835194397895,
          -1.0546265284298317,
          -1.0539429284149457,
          6.878316371220187,
          -0.5143328787486213,
          5.549396212007839,
          5.5504312654576236,
          0.47938856877444364,
          1.2177827419515972,
          1.7645306580099758,
          2.4627965988941303
         ],
         "xaxis": "x",
         "y": [
          -0.8140820152361223,
          -1.1671888446239025,
          -1.1793118590609226,
          -1.1915207704521866,
          -1.1882049567156383,
          -1.1724511446278216,
          -2.6326498956364928,
          -2.582987726892406,
          -2.395144072015405,
          -2.395144072015406,
          -2.4072917562932368,
          -3.980463655140198,
          1.9341733563248311,
          1.9376628431323968,
          0.3894732519271894,
          -0.061684371871983036,
          -0.6617498047169227,
          -0.6608172791348522,
          -0.6585600752843895,
          -0.6592170691915475,
          -0.6437047701480664,
          -0.7508260725312468,
          -0.6291616748822468,
          -0.643137836221693,
          0.12984346801769442,
          -7.5987247815609775,
          -7.601908653013456,
          -2.9046791286670692,
          -2.9046791286670692,
          -4.06346887019982,
          -3.912653248641682,
          -4.036594978614013,
          -4.06346887019982,
          -3.912653248641682,
          -4.036594978614013,
          -4.021822502095659,
          -4.010875331794853,
          -3.9844174199028104,
          -4.04240572438574,
          -4.004935010574526,
          -4.0020906620061085,
          -4.025934026593687,
          -4.0126394029358945,
          -4.019671940621433,
          -4.01556370868781,
          -4.017020237847218,
          -4.007604208111262,
          -4.000785077880281,
          -4.01649623426988,
          -4.011619102489194,
          -4.016099033614642,
          -4.021353732467113,
          -4.029786346350474,
          -4.026039913748435,
          -4.012495107400663,
          -4.0152935472635525,
          -4.028306312969156,
          -4.012495107400663,
          -4.012495107400663,
          -4.056704406124374,
          -3.7954463748993263,
          -4.066116489846919,
          -4.04340915884432,
          -4.026669863351098,
          0.27823405377635524,
          -4.27223470058174,
          -4.27223470058174,
          -7.495948573822947,
          -7.490661417082123,
          -5.3522089519181275,
          -1.4096598498717914,
          -3.134851049554111,
          -3.126845652092164,
          -7.911524085046961,
          -7.776306117361076,
          -7.670934512885008,
          -7.641353819158478
         ],
         "yaxis": "y"
        },
        {
         "customdata": [
          [
           "Triamcinolone"
          ],
          [
           "Pregnenolone"
          ],
          [
           "Hydroxypregnenolone"
          ],
          [
           "Betamethasone-17-valerate"
          ],
          [
           "Hydrocortisone-21-hemisuccinate"
          ],
          [
           "Hydrocortisone-21-hexanoate; Hydrocortisone caproate"
          ],
          [
           "Dexamethasone"
          ],
          [
           "Corticosterone"
          ],
          [
           "Corticosterone"
          ],
          [
           "Corticosterone"
          ],
          [
           "Corticosterone"
          ],
          [
           "Corticosterone"
          ],
          [
           "Corticosterone"
          ],
          [
           "Corticosterone"
          ],
          [
           "Corticosterone"
          ],
          [
           "Corticosterone"
          ],
          [
           "Corticosterone"
          ],
          [
           "Corticosterone"
          ],
          [
           "Corticosterone"
          ],
          [
           "Corticosterone"
          ],
          [
           "Corticosterone"
          ],
          [
           "Corticosterone"
          ],
          [
           "Corticosterone"
          ],
          [
           "Corticosterone"
          ],
          [
           "Corticosterone"
          ],
          [
           "Corticosterone"
          ],
          [
           "Corticosterone"
          ],
          [
           "Corticosterone"
          ],
          [
           "Corticosterone"
          ],
          [
           "Corticosterone"
          ],
          [
           "Corticosterone"
          ],
          [
           "Corticosterone"
          ],
          [
           "Corticosterone"
          ],
          [
           "Corticosterone"
          ],
          [
           "Corticosterone"
          ],
          [
           "Corticosterone"
          ],
          [
           "Corticosterone"
          ],
          [
           "Corticosterone"
          ],
          [
           "Corticosterone"
          ],
          [
           "Corticosterone"
          ],
          [
           "Corticosterone"
          ],
          [
           "Corticosterone"
          ],
          [
           "Corticosterone"
          ],
          [
           "Corticosterone"
          ],
          [
           "Corticosterone"
          ],
          [
           "Corticosterone"
          ],
          [
           "Corticosterone"
          ],
          [
           "Corticosterone"
          ],
          [
           "Corticosterone"
          ],
          [
           "Corticosterone"
          ],
          [
           "Corticosterone"
          ],
          [
           "Corticosterone"
          ],
          [
           "Corticosterone"
          ],
          [
           "Corticosterone"
          ],
          [
           "Corticosterone"
          ],
          [
           "Corticosterone"
          ],
          [
           "Corticosterone"
          ],
          [
           "Corticosterone"
          ],
          [
           "Corticosterone"
          ],
          [
           "Corticosterone"
          ],
          [
           "Corticosterone"
          ],
          [
           "Corticosterone"
          ],
          [
           "Corticosterone"
          ],
          [
           "Corticosterone"
          ],
          [
           "Corticosterone"
          ],
          [
           "Corticosterone"
          ],
          [
           "Corticosterone"
          ],
          [
           "Corticosterone"
          ],
          [
           "Corticosterone"
          ],
          [
           "Hydrocortisone "
          ],
          [
           "Hydrocortisone "
          ],
          [
           "Hydrocortisone"
          ],
          [
           "Hydrocortisone"
          ],
          [
           "Hydrocortisone"
          ],
          [
           "Hydrocortisone"
          ],
          [
           "Prednisolone"
          ],
          [
           "Raffinose"
          ],
          [
           "Raffinose"
          ],
          [
           "Aldosterone"
          ],
          [
           "Aldosterone"
          ],
          [
           "Aldosterone"
          ],
          [
           "Aldosterone"
          ],
          [
           "Aldosterone"
          ],
          [
           "Aldosterone"
          ],
          [
           "Cortisone"
          ],
          [
           "cortisone"
          ],
          [
           "Sucrose"
          ],
          [
           "Sucrose"
          ],
          [
           "Sucrose"
          ],
          [
           "Sucrose"
          ],
          [
           "Sucrose"
          ],
          [
           "sucrose"
          ],
          [
           "sucrose"
          ],
          [
           "Progesterone"
          ],
          [
           "Progesterone"
          ],
          [
           "Progesterone"
          ],
          [
           "Progesterone"
          ],
          [
           "Progesterone"
          ],
          [
           "Testosterone"
          ],
          [
           "Testosterone"
          ],
          [
           "testosterone"
          ],
          [
           "testosterone"
          ],
          [
           "testosterone"
          ],
          [
           "testosterone"
          ],
          [
           "testosterone"
          ],
          [
           "testosterone"
          ],
          [
           "Testosterone"
          ],
          [
           "Testosterone"
          ],
          [
           "Testosterone"
          ],
          [
           "Testosterone"
          ],
          [
           "Testosterone"
          ],
          [
           "Testosterone"
          ],
          [
           "Testosterone"
          ],
          [
           "Testosterone"
          ],
          [
           "Testosterone"
          ],
          [
           "Cortexone"
          ],
          [
           "Hydrocortisone-21-propionate"
          ],
          [
           "17-alfa-Hydroxyprogesterone"
          ],
          [
           "Triamcinolone acetonide"
          ],
          [
           "Triamcinolone acetonide"
          ]
         ],
         "hovertemplate": "cluster=1<br>PCA1=%{x}<br>PCA2=%{y}<br>compound=%{customdata[0]}<extra></extra>",
         "legendgroup": "1",
         "marker": {
          "color": "#ab63fa",
          "symbol": "circle"
         },
         "mode": "markers",
         "name": "1",
         "orientation": "v",
         "showlegend": true,
         "type": "scatter",
         "x": [
          16.751285622257974,
          11.7166681078346,
          13.669799476371317,
          21.583169502731412,
          18.08053812361251,
          18.77731456273473,
          17.55349845756722,
          12.560359159480546,
          12.572699824627131,
          12.578558816024422,
          12.551581040796739,
          12.563676822194045,
          12.563676822194045,
          12.556133691549707,
          12.553744931780923,
          12.549579957868787,
          12.542579960415381,
          12.533961629018247,
          12.555793811330723,
          12.544631136972875,
          12.542934500208549,
          12.541542215120042,
          12.53860104044737,
          12.555631298310644,
          12.548676997392484,
          12.543493847888918,
          12.54008731578521,
          12.556495514288414,
          12.553520649608403,
          12.549314206382775,
          12.545299914383257,
          12.542410758621488,
          12.555319756685908,
          12.548913585519484,
          12.548146872984145,
          12.545612905789907,
          12.541313354501654,
          12.55460914775868,
          12.550591232943773,
          12.545376539356825,
          12.542217161733317,
          12.540502787800541,
          12.559056241946926,
          12.555793811330723,
          12.550398997883933,
          12.548274779063272,
          12.54670523731241,
          12.555793811330723,
          12.54863085469062,
          12.54664042379718,
          12.545721243588718,
          12.555961176195826,
          12.552609518657048,
          12.549011088961905,
          12.54877043799925,
          12.555631298310644,
          12.549314206382775,
          12.546147243882485,
          12.542786741261773,
          12.539890583086429,
          12.555793811330723,
          12.547701372473716,
          12.544432075590077,
          12.542786741261773,
          12.540291203949705,
          12.569835979547731,
          12.559950042724909,
          12.569835979547731,
          12.561247412658158,
          14.47932964609081,
          14.479385991355324,
          14.455001263380616,
          14.442652049451842,
          14.43409732754106,
          14.455006792342392,
          14.231356513123258,
          12.348570005937706,
          12.355762337061309,
          12.334905226413417,
          12.335737314471583,
          12.338601159550974,
          12.338601159550974,
          12.332010535002407,
          12.341511869637166,
          14.24604689872679,
          14.230864738940062,
          4.673197336085717,
          4.676516555887173,
          4.648763122397764,
          4.669228457959838,
          4.670327827919324,
          4.66464698514223,
          4.663414692876177,
          11.549962440821965,
          11.533167447126157,
          11.537855709965465,
          11.535440608848488,
          11.535498316233468,
          9.813926336527159,
          9.80966102576652,
          9.797345622670054,
          9.795295257415573,
          9.796051095317758,
          9.796227224146874,
          9.796725891027117,
          9.79727328222602,
          9.804368996001491,
          9.804368996001491,
          9.804368996001491,
          9.79758359183085,
          9.799376542866655,
          9.788337690808481,
          9.79131493053626,
          9.796618281070282,
          9.800898831571462,
          11.912278169998855,
          16.81298753195766,
          13.536980922557754,
          21.681538721164443,
          21.66470109375273
         ],
         "xaxis": "x",
         "y": [
          3.0838380108905126,
          -0.8965230096312682,
          0.1725447463187383,
          2.1702440646520373,
          3.885280951159575,
          2.215450256790734,
          2.020610861582674,
          0.8450144508091858,
          0.9404606613056032,
          0.9857757654396847,
          0.7771219868530785,
          0.8706741968559232,
          0.8706741968559224,
          0.8123334812841565,
          0.7938581345334647,
          0.7616450429368231,
          0.7075050737798412,
          0.6408484500980953,
          0.8097047511029664,
          0.7233694560595595,
          0.7102471852728823,
          0.6994788568195711,
          0.6767309762491458,
          0.8084478292323797,
          0.7546612900622481,
          0.7145733391556344,
          0.6882262519951791,
          0.8151319211470464,
          0.7921234724876371,
          0.7595896454381706,
          0.7285419705657408,
          0.7061964190317859,
          0.8060382777907689,
          0.7564911298564115,
          0.7505611572681892,
          0.7309627350325808,
          0.6977087837727373,
          0.8005422264481328,
          0.7694665316921275,
          0.7291346098821627,
          0.704699085693706,
          0.691439630606549,
          0.8349373164167853,
          0.8097047511029662,
          0.7679797311210446,
          0.7515504192251489,
          0.7394111373828275,
          0.8097047511029662,
          0.7543044092960166,
          0.7389098512410832,
          0.731800650349598,
          0.8109991985218229,
          0.7850765268377471,
          0.7572452491828563,
          0.7553839862636696,
          0.8084478292323796,
          0.7595896454381709,
          0.735095457657803,
          0.7091043755966819,
          0.6867046654067297,
          0.8097047511029662,
          0.7471155297441997,
          0.7218298587674995,
          0.7091043755966819,
          0.6898031809884885,
          0.9183108697805508,
          0.8418502255818234,
          0.9183108697805508,
          0.851884453256876,
          2.0664426302561503,
          2.0668784205406534,
          1.8782800061499558,
          1.7827676769431429,
          1.7166030271016213,
          1.8783227687112627,
          1.5554356248258874,
          17.638222890985183,
          17.693850423393517,
          1.8089255003883422,
          1.815361105844622,
          1.8375108973696763,
          1.8375108973696763,
          1.786537134570525,
          1.860023156172754,
          1.8407968600391724,
          1.7233737226648607,
          12.513096095743453,
          12.538767884750849,
          12.324114944786494,
          12.482399664672903,
          12.490902504294533,
          12.446965252204883,
          12.437434353698043,
          -1.2860633654169742,
          -1.415960618485259,
          -1.3797002616481735,
          -1.3983793398699282,
          -1.397933014558606,
          -0.8827863031466947,
          -0.9157754284374464,
          -1.0110262550608944,
          -1.026884362492612,
          -1.0210384974070428,
          -1.0196762670006088,
          -1.0158194356666232,
          -1.0115857566085498,
          -0.9567054902215989,
          -0.9567054902215989,
          -0.9567054902215989,
          -1.0091857339590473,
          -0.9953185412316053,
          -1.08069615942868,
          -1.057669341475143,
          -1.016651721647167,
          -0.9835447278731049,
          -0.12060015916803729,
          2.421481950008325,
          -0.1148770907924892,
          2.796297624885241,
          2.6660706305448314
         ],
         "yaxis": "y"
        }
       ],
       "layout": {
        "legend": {
         "title": {
          "text": "cluster"
         },
         "tracegroupgap": 0
        },
        "template": {
         "data": {
          "bar": [
           {
            "error_x": {
             "color": "#2a3f5f"
            },
            "error_y": {
             "color": "#2a3f5f"
            },
            "marker": {
             "line": {
              "color": "#E5ECF6",
              "width": 0.5
             },
             "pattern": {
              "fillmode": "overlay",
              "size": 10,
              "solidity": 0.2
             }
            },
            "type": "bar"
           }
          ],
          "barpolar": [
           {
            "marker": {
             "line": {
              "color": "#E5ECF6",
              "width": 0.5
             },
             "pattern": {
              "fillmode": "overlay",
              "size": 10,
              "solidity": 0.2
             }
            },
            "type": "barpolar"
           }
          ],
          "carpet": [
           {
            "aaxis": {
             "endlinecolor": "#2a3f5f",
             "gridcolor": "white",
             "linecolor": "white",
             "minorgridcolor": "white",
             "startlinecolor": "#2a3f5f"
            },
            "baxis": {
             "endlinecolor": "#2a3f5f",
             "gridcolor": "white",
             "linecolor": "white",
             "minorgridcolor": "white",
             "startlinecolor": "#2a3f5f"
            },
            "type": "carpet"
           }
          ],
          "choropleth": [
           {
            "colorbar": {
             "outlinewidth": 0,
             "ticks": ""
            },
            "type": "choropleth"
           }
          ],
          "contour": [
           {
            "colorbar": {
             "outlinewidth": 0,
             "ticks": ""
            },
            "colorscale": [
             [
              0,
              "#0d0887"
             ],
             [
              0.1111111111111111,
              "#46039f"
             ],
             [
              0.2222222222222222,
              "#7201a8"
             ],
             [
              0.3333333333333333,
              "#9c179e"
             ],
             [
              0.4444444444444444,
              "#bd3786"
             ],
             [
              0.5555555555555556,
              "#d8576b"
             ],
             [
              0.6666666666666666,
              "#ed7953"
             ],
             [
              0.7777777777777778,
              "#fb9f3a"
             ],
             [
              0.8888888888888888,
              "#fdca26"
             ],
             [
              1,
              "#f0f921"
             ]
            ],
            "type": "contour"
           }
          ],
          "contourcarpet": [
           {
            "colorbar": {
             "outlinewidth": 0,
             "ticks": ""
            },
            "type": "contourcarpet"
           }
          ],
          "heatmap": [
           {
            "colorbar": {
             "outlinewidth": 0,
             "ticks": ""
            },
            "colorscale": [
             [
              0,
              "#0d0887"
             ],
             [
              0.1111111111111111,
              "#46039f"
             ],
             [
              0.2222222222222222,
              "#7201a8"
             ],
             [
              0.3333333333333333,
              "#9c179e"
             ],
             [
              0.4444444444444444,
              "#bd3786"
             ],
             [
              0.5555555555555556,
              "#d8576b"
             ],
             [
              0.6666666666666666,
              "#ed7953"
             ],
             [
              0.7777777777777778,
              "#fb9f3a"
             ],
             [
              0.8888888888888888,
              "#fdca26"
             ],
             [
              1,
              "#f0f921"
             ]
            ],
            "type": "heatmap"
           }
          ],
          "heatmapgl": [
           {
            "colorbar": {
             "outlinewidth": 0,
             "ticks": ""
            },
            "colorscale": [
             [
              0,
              "#0d0887"
             ],
             [
              0.1111111111111111,
              "#46039f"
             ],
             [
              0.2222222222222222,
              "#7201a8"
             ],
             [
              0.3333333333333333,
              "#9c179e"
             ],
             [
              0.4444444444444444,
              "#bd3786"
             ],
             [
              0.5555555555555556,
              "#d8576b"
             ],
             [
              0.6666666666666666,
              "#ed7953"
             ],
             [
              0.7777777777777778,
              "#fb9f3a"
             ],
             [
              0.8888888888888888,
              "#fdca26"
             ],
             [
              1,
              "#f0f921"
             ]
            ],
            "type": "heatmapgl"
           }
          ],
          "histogram": [
           {
            "marker": {
             "pattern": {
              "fillmode": "overlay",
              "size": 10,
              "solidity": 0.2
             }
            },
            "type": "histogram"
           }
          ],
          "histogram2d": [
           {
            "colorbar": {
             "outlinewidth": 0,
             "ticks": ""
            },
            "colorscale": [
             [
              0,
              "#0d0887"
             ],
             [
              0.1111111111111111,
              "#46039f"
             ],
             [
              0.2222222222222222,
              "#7201a8"
             ],
             [
              0.3333333333333333,
              "#9c179e"
             ],
             [
              0.4444444444444444,
              "#bd3786"
             ],
             [
              0.5555555555555556,
              "#d8576b"
             ],
             [
              0.6666666666666666,
              "#ed7953"
             ],
             [
              0.7777777777777778,
              "#fb9f3a"
             ],
             [
              0.8888888888888888,
              "#fdca26"
             ],
             [
              1,
              "#f0f921"
             ]
            ],
            "type": "histogram2d"
           }
          ],
          "histogram2dcontour": [
           {
            "colorbar": {
             "outlinewidth": 0,
             "ticks": ""
            },
            "colorscale": [
             [
              0,
              "#0d0887"
             ],
             [
              0.1111111111111111,
              "#46039f"
             ],
             [
              0.2222222222222222,
              "#7201a8"
             ],
             [
              0.3333333333333333,
              "#9c179e"
             ],
             [
              0.4444444444444444,
              "#bd3786"
             ],
             [
              0.5555555555555556,
              "#d8576b"
             ],
             [
              0.6666666666666666,
              "#ed7953"
             ],
             [
              0.7777777777777778,
              "#fb9f3a"
             ],
             [
              0.8888888888888888,
              "#fdca26"
             ],
             [
              1,
              "#f0f921"
             ]
            ],
            "type": "histogram2dcontour"
           }
          ],
          "mesh3d": [
           {
            "colorbar": {
             "outlinewidth": 0,
             "ticks": ""
            },
            "type": "mesh3d"
           }
          ],
          "parcoords": [
           {
            "line": {
             "colorbar": {
              "outlinewidth": 0,
              "ticks": ""
             }
            },
            "type": "parcoords"
           }
          ],
          "pie": [
           {
            "automargin": true,
            "type": "pie"
           }
          ],
          "scatter": [
           {
            "fillpattern": {
             "fillmode": "overlay",
             "size": 10,
             "solidity": 0.2
            },
            "type": "scatter"
           }
          ],
          "scatter3d": [
           {
            "line": {
             "colorbar": {
              "outlinewidth": 0,
              "ticks": ""
             }
            },
            "marker": {
             "colorbar": {
              "outlinewidth": 0,
              "ticks": ""
             }
            },
            "type": "scatter3d"
           }
          ],
          "scattercarpet": [
           {
            "marker": {
             "colorbar": {
              "outlinewidth": 0,
              "ticks": ""
             }
            },
            "type": "scattercarpet"
           }
          ],
          "scattergeo": [
           {
            "marker": {
             "colorbar": {
              "outlinewidth": 0,
              "ticks": ""
             }
            },
            "type": "scattergeo"
           }
          ],
          "scattergl": [
           {
            "marker": {
             "colorbar": {
              "outlinewidth": 0,
              "ticks": ""
             }
            },
            "type": "scattergl"
           }
          ],
          "scattermapbox": [
           {
            "marker": {
             "colorbar": {
              "outlinewidth": 0,
              "ticks": ""
             }
            },
            "type": "scattermapbox"
           }
          ],
          "scatterpolar": [
           {
            "marker": {
             "colorbar": {
              "outlinewidth": 0,
              "ticks": ""
             }
            },
            "type": "scatterpolar"
           }
          ],
          "scatterpolargl": [
           {
            "marker": {
             "colorbar": {
              "outlinewidth": 0,
              "ticks": ""
             }
            },
            "type": "scatterpolargl"
           }
          ],
          "scatterternary": [
           {
            "marker": {
             "colorbar": {
              "outlinewidth": 0,
              "ticks": ""
             }
            },
            "type": "scatterternary"
           }
          ],
          "surface": [
           {
            "colorbar": {
             "outlinewidth": 0,
             "ticks": ""
            },
            "colorscale": [
             [
              0,
              "#0d0887"
             ],
             [
              0.1111111111111111,
              "#46039f"
             ],
             [
              0.2222222222222222,
              "#7201a8"
             ],
             [
              0.3333333333333333,
              "#9c179e"
             ],
             [
              0.4444444444444444,
              "#bd3786"
             ],
             [
              0.5555555555555556,
              "#d8576b"
             ],
             [
              0.6666666666666666,
              "#ed7953"
             ],
             [
              0.7777777777777778,
              "#fb9f3a"
             ],
             [
              0.8888888888888888,
              "#fdca26"
             ],
             [
              1,
              "#f0f921"
             ]
            ],
            "type": "surface"
           }
          ],
          "table": [
           {
            "cells": {
             "fill": {
              "color": "#EBF0F8"
             },
             "line": {
              "color": "white"
             }
            },
            "header": {
             "fill": {
              "color": "#C8D4E3"
             },
             "line": {
              "color": "white"
             }
            },
            "type": "table"
           }
          ]
         },
         "layout": {
          "annotationdefaults": {
           "arrowcolor": "#2a3f5f",
           "arrowhead": 0,
           "arrowwidth": 1
          },
          "autotypenumbers": "strict",
          "coloraxis": {
           "colorbar": {
            "outlinewidth": 0,
            "ticks": ""
           }
          },
          "colorscale": {
           "diverging": [
            [
             0,
             "#8e0152"
            ],
            [
             0.1,
             "#c51b7d"
            ],
            [
             0.2,
             "#de77ae"
            ],
            [
             0.3,
             "#f1b6da"
            ],
            [
             0.4,
             "#fde0ef"
            ],
            [
             0.5,
             "#f7f7f7"
            ],
            [
             0.6,
             "#e6f5d0"
            ],
            [
             0.7,
             "#b8e186"
            ],
            [
             0.8,
             "#7fbc41"
            ],
            [
             0.9,
             "#4d9221"
            ],
            [
             1,
             "#276419"
            ]
           ],
           "sequential": [
            [
             0,
             "#0d0887"
            ],
            [
             0.1111111111111111,
             "#46039f"
            ],
            [
             0.2222222222222222,
             "#7201a8"
            ],
            [
             0.3333333333333333,
             "#9c179e"
            ],
            [
             0.4444444444444444,
             "#bd3786"
            ],
            [
             0.5555555555555556,
             "#d8576b"
            ],
            [
             0.6666666666666666,
             "#ed7953"
            ],
            [
             0.7777777777777778,
             "#fb9f3a"
            ],
            [
             0.8888888888888888,
             "#fdca26"
            ],
            [
             1,
             "#f0f921"
            ]
           ],
           "sequentialminus": [
            [
             0,
             "#0d0887"
            ],
            [
             0.1111111111111111,
             "#46039f"
            ],
            [
             0.2222222222222222,
             "#7201a8"
            ],
            [
             0.3333333333333333,
             "#9c179e"
            ],
            [
             0.4444444444444444,
             "#bd3786"
            ],
            [
             0.5555555555555556,
             "#d8576b"
            ],
            [
             0.6666666666666666,
             "#ed7953"
            ],
            [
             0.7777777777777778,
             "#fb9f3a"
            ],
            [
             0.8888888888888888,
             "#fdca26"
            ],
            [
             1,
             "#f0f921"
            ]
           ]
          },
          "colorway": [
           "#636efa",
           "#EF553B",
           "#00cc96",
           "#ab63fa",
           "#FFA15A",
           "#19d3f3",
           "#FF6692",
           "#B6E880",
           "#FF97FF",
           "#FECB52"
          ],
          "font": {
           "color": "#2a3f5f"
          },
          "geo": {
           "bgcolor": "white",
           "lakecolor": "white",
           "landcolor": "#E5ECF6",
           "showlakes": true,
           "showland": true,
           "subunitcolor": "white"
          },
          "hoverlabel": {
           "align": "left"
          },
          "hovermode": "closest",
          "mapbox": {
           "style": "light"
          },
          "paper_bgcolor": "white",
          "plot_bgcolor": "#E5ECF6",
          "polar": {
           "angularaxis": {
            "gridcolor": "white",
            "linecolor": "white",
            "ticks": ""
           },
           "bgcolor": "#E5ECF6",
           "radialaxis": {
            "gridcolor": "white",
            "linecolor": "white",
            "ticks": ""
           }
          },
          "scene": {
           "xaxis": {
            "backgroundcolor": "#E5ECF6",
            "gridcolor": "white",
            "gridwidth": 2,
            "linecolor": "white",
            "showbackground": true,
            "ticks": "",
            "zerolinecolor": "white"
           },
           "yaxis": {
            "backgroundcolor": "#E5ECF6",
            "gridcolor": "white",
            "gridwidth": 2,
            "linecolor": "white",
            "showbackground": true,
            "ticks": "",
            "zerolinecolor": "white"
           },
           "zaxis": {
            "backgroundcolor": "#E5ECF6",
            "gridcolor": "white",
            "gridwidth": 2,
            "linecolor": "white",
            "showbackground": true,
            "ticks": "",
            "zerolinecolor": "white"
           }
          },
          "shapedefaults": {
           "line": {
            "color": "#2a3f5f"
           }
          },
          "ternary": {
           "aaxis": {
            "gridcolor": "white",
            "linecolor": "white",
            "ticks": ""
           },
           "baxis": {
            "gridcolor": "white",
            "linecolor": "white",
            "ticks": ""
           },
           "bgcolor": "#E5ECF6",
           "caxis": {
            "gridcolor": "white",
            "linecolor": "white",
            "ticks": ""
           }
          },
          "title": {
           "x": 0.05
          },
          "xaxis": {
           "automargin": true,
           "gridcolor": "white",
           "linecolor": "white",
           "ticks": "",
           "title": {
            "standoff": 15
           },
           "zerolinecolor": "white",
           "zerolinewidth": 2
          },
          "yaxis": {
           "automargin": true,
           "gridcolor": "white",
           "linecolor": "white",
           "ticks": "",
           "title": {
            "standoff": 15
           },
           "zerolinecolor": "white",
           "zerolinewidth": 2
          }
         }
        },
        "title": {
         "text": "Compounds Clustering"
        },
        "width": 800,
        "xaxis": {
         "anchor": "y",
         "domain": [
          0,
          1
         ],
         "title": {
          "text": "PCA1"
         }
        },
        "yaxis": {
         "anchor": "x",
         "domain": [
          0,
          1
         ],
         "title": {
          "text": "PCA2"
         }
        }
       }
      }
     },
     "metadata": {},
     "output_type": "display_data"
    }
   ],
   "source": [
    "fig = px.scatter(pca_df, x='PCA1', y='PCA2', color=\"cluster\", hover_data=['compound'], title=\"Compounds Clustering\", width=800)\n",
    "fig.show()"
   ]
  },
  {
   "attachments": {},
   "cell_type": "markdown",
   "metadata": {},
   "source": [
    "# Interpretation"
   ]
  },
  {
   "cell_type": "code",
   "execution_count": 90,
   "metadata": {},
   "outputs": [
    {
     "data": {
      "text/html": [
       "<div>\n",
       "<style scoped>\n",
       "    .dataframe tbody tr th:only-of-type {\n",
       "        vertical-align: middle;\n",
       "    }\n",
       "\n",
       "    .dataframe tbody tr th {\n",
       "        vertical-align: top;\n",
       "    }\n",
       "\n",
       "    .dataframe thead th {\n",
       "        text-align: right;\n",
       "    }\n",
       "</style>\n",
       "<table border=\"1\" class=\"dataframe\">\n",
       "  <thead>\n",
       "    <tr style=\"text-align: right;\">\n",
       "      <th></th>\n",
       "      <th>compound</th>\n",
       "      <th>cluster</th>\n",
       "    </tr>\n",
       "  </thead>\n",
       "  <tbody>\n",
       "    <tr>\n",
       "      <th>0</th>\n",
       "      <td>p-Nitrophenol; 4-nitrophenol</td>\n",
       "      <td>0</td>\n",
       "    </tr>\n",
       "    <tr>\n",
       "      <th>1</th>\n",
       "      <td>Benzyl bromide</td>\n",
       "      <td>0</td>\n",
       "    </tr>\n",
       "  </tbody>\n",
       "</table>\n",
       "</div>"
      ],
      "text/plain": [
       "                       compound cluster\n",
       "0  p-Nitrophenol; 4-nitrophenol       0\n",
       "1                Benzyl bromide       0"
      ]
     },
     "execution_count": 90,
     "metadata": {},
     "output_type": "execute_result"
    }
   ],
   "source": [
    "# getting compound name and cluster\n",
    "results = pca_df[['compound', 'cluster']]\n",
    "results.head(2)"
   ]
  },
  {
   "cell_type": "code",
   "execution_count": 66,
   "metadata": {},
   "outputs": [
    {
     "name": "stdout",
     "output_type": "stream",
     "text": [
      "Finished!\n"
     ]
    }
   ],
   "source": [
    "# checking if any compound is has been assigned to more than one cluster\n",
    "for co in results['compound'].unique():\n",
    "    if results[results['compound'] == co]['cluster'].nunique() > 1:\n",
    "        print(co)\n",
    "print(\"Finished!\")"
   ]
  },
  {
   "cell_type": "code",
   "execution_count": 67,
   "metadata": {},
   "outputs": [
    {
     "data": {
      "text/html": [
       "<div>\n",
       "<style scoped>\n",
       "    .dataframe tbody tr th:only-of-type {\n",
       "        vertical-align: middle;\n",
       "    }\n",
       "\n",
       "    .dataframe tbody tr th {\n",
       "        vertical-align: top;\n",
       "    }\n",
       "\n",
       "    .dataframe thead th {\n",
       "        text-align: right;\n",
       "    }\n",
       "</style>\n",
       "<table border=\"1\" class=\"dataframe\">\n",
       "  <thead>\n",
       "    <tr style=\"text-align: right;\">\n",
       "      <th></th>\n",
       "      <th>compound</th>\n",
       "      <th>cluster</th>\n",
       "    </tr>\n",
       "  </thead>\n",
       "  <tbody>\n",
       "    <tr>\n",
       "      <th>0</th>\n",
       "      <td>p-Nitrophenol; 4-nitrophenol</td>\n",
       "      <td>0</td>\n",
       "    </tr>\n",
       "    <tr>\n",
       "      <th>115</th>\n",
       "      <td>4-phenylbutanol</td>\n",
       "      <td>0</td>\n",
       "    </tr>\n",
       "    <tr>\n",
       "      <th>303</th>\n",
       "      <td>Caffeine</td>\n",
       "      <td>0</td>\n",
       "    </tr>\n",
       "    <tr>\n",
       "      <th>427</th>\n",
       "      <td>o-Phenylenediamine</td>\n",
       "      <td>0</td>\n",
       "    </tr>\n",
       "    <tr>\n",
       "      <th>426</th>\n",
       "      <td>o-Cresol</td>\n",
       "      <td>0</td>\n",
       "    </tr>\n",
       "    <tr>\n",
       "      <th>...</th>\n",
       "      <td>...</td>\n",
       "      <td>...</td>\n",
       "    </tr>\n",
       "    <tr>\n",
       "      <th>444</th>\n",
       "      <td>1-(diphenylmethyl)-4-propylpiperazine</td>\n",
       "      <td>3</td>\n",
       "    </tr>\n",
       "    <tr>\n",
       "      <th>223</th>\n",
       "      <td>Estradiol</td>\n",
       "      <td>3</td>\n",
       "    </tr>\n",
       "    <tr>\n",
       "      <th>224</th>\n",
       "      <td>Estradiol</td>\n",
       "      <td>3</td>\n",
       "    </tr>\n",
       "    <tr>\n",
       "      <th>226</th>\n",
       "      <td>Beta-Estradiol</td>\n",
       "      <td>3</td>\n",
       "    </tr>\n",
       "    <tr>\n",
       "      <th>445</th>\n",
       "      <td>1-(diphenylmethyl)-4-butylpiperazine</td>\n",
       "      <td>3</td>\n",
       "    </tr>\n",
       "  </tbody>\n",
       "</table>\n",
       "<p>446 rows × 2 columns</p>\n",
       "</div>"
      ],
      "text/plain": [
       "                                  compound cluster\n",
       "0             p-Nitrophenol; 4-nitrophenol       0\n",
       "115                        4-phenylbutanol       0\n",
       "303                               Caffeine       0\n",
       "427                     o-Phenylenediamine       0\n",
       "426                               o-Cresol       0\n",
       "..                                     ...     ...\n",
       "444  1-(diphenylmethyl)-4-propylpiperazine       3\n",
       "223                              Estradiol       3\n",
       "224                              Estradiol       3\n",
       "226                         Beta-Estradiol       3\n",
       "445   1-(diphenylmethyl)-4-butylpiperazine       3\n",
       "\n",
       "[446 rows x 2 columns]"
      ]
     },
     "execution_count": 67,
     "metadata": {},
     "output_type": "execute_result"
    }
   ],
   "source": [
    "# sorting values by cluster to make it easier to look in excel sheet\n",
    "results.sort_values('cluster', inplace=True)\n",
    "results"
   ]
  },
  {
   "cell_type": "code",
   "execution_count": 34,
   "metadata": {},
   "outputs": [],
   "source": [
    "# saving the results into excel sheet\n",
    "results.to_excel('../results/clusters.xlsx', index=False)"
   ]
  },
  {
   "cell_type": "code",
   "execution_count": 70,
   "metadata": {},
   "outputs": [
    {
     "data": {
      "text/html": [
       "<div>\n",
       "<style scoped>\n",
       "    .dataframe tbody tr th:only-of-type {\n",
       "        vertical-align: middle;\n",
       "    }\n",
       "\n",
       "    .dataframe tbody tr th {\n",
       "        vertical-align: top;\n",
       "    }\n",
       "\n",
       "    .dataframe thead th {\n",
       "        text-align: right;\n",
       "    }\n",
       "</style>\n",
       "<table border=\"1\" class=\"dataframe\">\n",
       "  <thead>\n",
       "    <tr style=\"text-align: right;\">\n",
       "      <th></th>\n",
       "      <th>cluster</th>\n",
       "      <th>logkpl_count</th>\n",
       "      <th>logkpl_min</th>\n",
       "      <th>logkpl_max</th>\n",
       "      <th>logkpl_mean</th>\n",
       "    </tr>\n",
       "  </thead>\n",
       "  <tbody>\n",
       "    <tr>\n",
       "      <th>0</th>\n",
       "      <td>0</td>\n",
       "      <td>159</td>\n",
       "      <td>-5.376751</td>\n",
       "      <td>-0.080922</td>\n",
       "      <td>-2.338047</td>\n",
       "    </tr>\n",
       "    <tr>\n",
       "      <th>1</th>\n",
       "      <td>1</td>\n",
       "      <td>120</td>\n",
       "      <td>-5.527244</td>\n",
       "      <td>-1.220981</td>\n",
       "      <td>-2.906265</td>\n",
       "    </tr>\n",
       "    <tr>\n",
       "      <th>2</th>\n",
       "      <td>2</td>\n",
       "      <td>90</td>\n",
       "      <td>-4.958607</td>\n",
       "      <td>-0.986619</td>\n",
       "      <td>-2.642533</td>\n",
       "    </tr>\n",
       "    <tr>\n",
       "      <th>3</th>\n",
       "      <td>3</td>\n",
       "      <td>77</td>\n",
       "      <td>-4.696804</td>\n",
       "      <td>-1.107567</td>\n",
       "      <td>-2.759968</td>\n",
       "    </tr>\n",
       "  </tbody>\n",
       "</table>\n",
       "</div>"
      ],
      "text/plain": [
       "   cluster  logkpl_count  logkpl_min  logkpl_max  logkpl_mean\n",
       "0        0           159   -5.376751   -0.080922    -2.338047\n",
       "1        1           120   -5.527244   -1.220981    -2.906265\n",
       "2        2            90   -4.958607   -0.986619    -2.642533\n",
       "3        3            77   -4.696804   -1.107567    -2.759968"
      ]
     },
     "execution_count": 70,
     "metadata": {},
     "output_type": "execute_result"
    }
   ],
   "source": [
    "# grouping by cluster and getting descriptive values\n",
    "cluster_analysis = clusters.groupby('cluster', as_index=False).agg({'logkpl': ['count', 'min', 'max', 'mean']})\n",
    "cluster_analysis.columns = ['cluster', 'logkpl_count', 'logkpl_min', 'logkpl_max', 'logkpl_mean']\n",
    "cluster_analysis"
   ]
  },
  {
   "cell_type": "code",
   "execution_count": 91,
   "metadata": {},
   "outputs": [],
   "source": [
    "cluster_analysis.to_excel(\"../results/clusters_analysis.xlsx\", index=False)"
   ]
  }
 ],
 "metadata": {
  "kernelspec": {
   "display_name": "ds",
   "language": "python",
   "name": "python3"
  },
  "language_info": {
   "codemirror_mode": {
    "name": "ipython",
    "version": 3
   },
   "file_extension": ".py",
   "mimetype": "text/x-python",
   "name": "python",
   "nbconvert_exporter": "python",
   "pygments_lexer": "ipython3",
   "version": "3.10.9"
  },
  "orig_nbformat": 4,
  "vscode": {
   "interpreter": {
    "hash": "20dc5ffa7283070ee904113ac137ec063d55d491ad60d3ae86495ae673f57bef"
   }
  }
 },
 "nbformat": 4,
 "nbformat_minor": 2
}
