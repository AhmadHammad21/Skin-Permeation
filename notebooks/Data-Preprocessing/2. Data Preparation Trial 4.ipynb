{
 "cells": [
  {
   "attachments": {},
   "cell_type": "markdown",
   "metadata": {},
   "source": [
    "<a id=\"import-libraries\"></a>\n",
    "# 1. Import Libraries & Data"
   ]
  },
  {
   "cell_type": "code",
   "execution_count": 39,
   "metadata": {},
   "outputs": [],
   "source": [
    "import pandas as pd\n",
    "import matplotlib.pyplot as plt\n",
    "import seaborn as sns\n",
    "import numpy as np"
   ]
  },
  {
   "cell_type": "code",
   "execution_count": 40,
   "metadata": {},
   "outputs": [],
   "source": [
    "# we get original df from trial 1, but we change it to trial 3 folder\n",
    "orginal_df = pd.read_csv(\"../../data/raw/data-original.csv\", encoding= 'unicode_escape')\n",
    "data_descriptors = pd.read_csv(\"../../data/raw/data-descriptors.csv\", encoding= 'unicode_escape')"
   ]
  },
  {
   "cell_type": "code",
   "execution_count": 41,
   "metadata": {},
   "outputs": [
    {
     "data": {
      "text/plain": [
       "((476, 20), (476, 225))"
      ]
     },
     "execution_count": 41,
     "metadata": {},
     "output_type": "execute_result"
    }
   ],
   "source": [
    "orginal_df.shape,  data_descriptors.shape"
   ]
  },
  {
   "cell_type": "code",
   "execution_count": 42,
   "metadata": {},
   "outputs": [
    {
     "data": {
      "text/html": [
       "<div>\n",
       "<style scoped>\n",
       "    .dataframe tbody tr th:only-of-type {\n",
       "        vertical-align: middle;\n",
       "    }\n",
       "\n",
       "    .dataframe tbody tr th {\n",
       "        vertical-align: top;\n",
       "    }\n",
       "\n",
       "    .dataframe thead th {\n",
       "        text-align: right;\n",
       "    }\n",
       "</style>\n",
       "<table border=\"1\" class=\"dataframe\">\n",
       "  <thead>\n",
       "    <tr style=\"text-align: right;\">\n",
       "      <th></th>\n",
       "      <th>No</th>\n",
       "      <th>Compound</th>\n",
       "      <th>SMILES</th>\n",
       "      <th>CAS No</th>\n",
       "      <th>set</th>\n",
       "      <th>MWa</th>\n",
       "      <th>logKowb</th>\n",
       "      <th>Mptc</th>\n",
       "      <th>LogSaqd</th>\n",
       "      <th>LogSoce</th>\n",
       "      <th>Hdf</th>\n",
       "      <th>Hag</th>\n",
       "      <th>MVh</th>\n",
       "      <th>Texpi</th>\n",
       "      <th>Skin thicknessj</th>\n",
       "      <th>Skin Integrity testk</th>\n",
       "      <th>Skin Selection criteria</th>\n",
       "      <th>logkpl</th>\n",
       "      <th>logJmaxm</th>\n",
       "      <th>Reference</th>\n",
       "    </tr>\n",
       "  </thead>\n",
       "  <tbody>\n",
       "    <tr>\n",
       "      <th>0</th>\n",
       "      <td>80</td>\n",
       "      <td>Urea</td>\n",
       "      <td>C(=O)(N)N</td>\n",
       "      <td>57-13-6</td>\n",
       "      <td>t</td>\n",
       "      <td>60.1</td>\n",
       "      <td>-2.11</td>\n",
       "      <td>406.0</td>\n",
       "      <td>-1.85</td>\n",
       "      <td>-3.96</td>\n",
       "      <td>4</td>\n",
       "      <td>3</td>\n",
       "      <td>36.7</td>\n",
       "      <td>312</td>\n",
       "      <td>0.1</td>\n",
       "      <td>transepidermal electrical resistance</td>\n",
       "      <td>20-130 Kohmcm2</td>\n",
       "      <td>-3.55</td>\n",
       "      <td>-5.41</td>\n",
       "      <td>(Peck et al. 1995)</td>\n",
       "    </tr>\n",
       "    <tr>\n",
       "      <th>1</th>\n",
       "      <td>81</td>\n",
       "      <td>Urea</td>\n",
       "      <td>C(=O)(N)N</td>\n",
       "      <td>57-13-6</td>\n",
       "      <td>t</td>\n",
       "      <td>60.1</td>\n",
       "      <td>-2.11</td>\n",
       "      <td>406.0</td>\n",
       "      <td>-2.02</td>\n",
       "      <td>-4.13</td>\n",
       "      <td>4</td>\n",
       "      <td>3</td>\n",
       "      <td>36.7</td>\n",
       "      <td>300</td>\n",
       "      <td>0.1</td>\n",
       "      <td>transepidermal electrical resistance</td>\n",
       "      <td>20-130 Kohmcm2</td>\n",
       "      <td>-3.69</td>\n",
       "      <td>-5.71</td>\n",
       "      <td>(Peck et al. 1995)</td>\n",
       "    </tr>\n",
       "  </tbody>\n",
       "</table>\n",
       "</div>"
      ],
      "text/plain": [
       "   No Compound     SMILES   CAS No set   MWa  logKowb   Mptc  LogSaqd  \\\n",
       "0  80     Urea  C(=O)(N)N  57-13-6   t  60.1    -2.11  406.0    -1.85   \n",
       "1  81     Urea  C(=O)(N)N  57-13-6   t  60.1    -2.11  406.0    -2.02   \n",
       "\n",
       "   LogSoce  Hdf  Hag   MVh  Texpi  Skin thicknessj  \\\n",
       "0    -3.96    4    3  36.7    312              0.1   \n",
       "1    -4.13    4    3  36.7    300              0.1   \n",
       "\n",
       "                   Skin Integrity testk Skin Selection criteria  logkpl  \\\n",
       "0  transepidermal electrical resistance          20-130 Kohmcm2   -3.55   \n",
       "1  transepidermal electrical resistance          20-130 Kohmcm2   -3.69   \n",
       "\n",
       "   logJmaxm           Reference  \n",
       "0     -5.41  (Peck et al. 1995)  \n",
       "1     -5.71  (Peck et al. 1995)  "
      ]
     },
     "execution_count": 42,
     "metadata": {},
     "output_type": "execute_result"
    }
   ],
   "source": [
    "orginal_df.head(2)"
   ]
  },
  {
   "cell_type": "code",
   "execution_count": 43,
   "metadata": {},
   "outputs": [
    {
     "data": {
      "text/html": [
       "<div>\n",
       "<style scoped>\n",
       "    .dataframe tbody tr th:only-of-type {\n",
       "        vertical-align: middle;\n",
       "    }\n",
       "\n",
       "    .dataframe tbody tr th {\n",
       "        vertical-align: top;\n",
       "    }\n",
       "\n",
       "    .dataframe thead th {\n",
       "        text-align: right;\n",
       "    }\n",
       "</style>\n",
       "<table border=\"1\" class=\"dataframe\">\n",
       "  <thead>\n",
       "    <tr style=\"text-align: right;\">\n",
       "      <th></th>\n",
       "      <th>SMILES</th>\n",
       "      <th>Texpi</th>\n",
       "      <th>ALogP</th>\n",
       "      <th>ALogp2</th>\n",
       "      <th>AMR</th>\n",
       "      <th>apol</th>\n",
       "      <th>nAcid</th>\n",
       "      <th>naAromAtom</th>\n",
       "      <th>nAromBond</th>\n",
       "      <th>nAtom</th>\n",
       "      <th>...</th>\n",
       "      <th>MW</th>\n",
       "      <th>WTPT-1</th>\n",
       "      <th>WTPT-2</th>\n",
       "      <th>WTPT-3</th>\n",
       "      <th>WTPT-4</th>\n",
       "      <th>WTPT-5</th>\n",
       "      <th>WPATH</th>\n",
       "      <th>WPOL</th>\n",
       "      <th>XLogP</th>\n",
       "      <th>Zagreb</th>\n",
       "    </tr>\n",
       "  </thead>\n",
       "  <tbody>\n",
       "    <tr>\n",
       "      <th>0</th>\n",
       "      <td>C(=O)(N)N</td>\n",
       "      <td>312</td>\n",
       "      <td>-1.0421</td>\n",
       "      <td>1.085972</td>\n",
       "      <td>13.1426</td>\n",
       "      <td>7.429172</td>\n",
       "      <td>0</td>\n",
       "      <td>0</td>\n",
       "      <td>0</td>\n",
       "      <td>8</td>\n",
       "      <td>...</td>\n",
       "      <td>60.05531</td>\n",
       "      <td>6.732051</td>\n",
       "      <td>1.683013</td>\n",
       "      <td>6.732051</td>\n",
       "      <td>2.244017</td>\n",
       "      <td>4.488034</td>\n",
       "      <td>9.0</td>\n",
       "      <td>0.0</td>\n",
       "      <td>-1.686</td>\n",
       "      <td>12.0</td>\n",
       "    </tr>\n",
       "    <tr>\n",
       "      <th>1</th>\n",
       "      <td>C(=O)(N)N</td>\n",
       "      <td>312</td>\n",
       "      <td>-1.0421</td>\n",
       "      <td>1.085972</td>\n",
       "      <td>13.1426</td>\n",
       "      <td>7.429172</td>\n",
       "      <td>0</td>\n",
       "      <td>0</td>\n",
       "      <td>0</td>\n",
       "      <td>8</td>\n",
       "      <td>...</td>\n",
       "      <td>60.05531</td>\n",
       "      <td>6.732051</td>\n",
       "      <td>1.683013</td>\n",
       "      <td>6.732051</td>\n",
       "      <td>2.244017</td>\n",
       "      <td>4.488034</td>\n",
       "      <td>9.0</td>\n",
       "      <td>0.0</td>\n",
       "      <td>-1.686</td>\n",
       "      <td>12.0</td>\n",
       "    </tr>\n",
       "  </tbody>\n",
       "</table>\n",
       "<p>2 rows × 225 columns</p>\n",
       "</div>"
      ],
      "text/plain": [
       "      SMILES  Texpi   ALogP    ALogp2      AMR      apol  nAcid  naAromAtom  \\\n",
       "0  C(=O)(N)N    312 -1.0421  1.085972  13.1426  7.429172      0           0   \n",
       "1  C(=O)(N)N    312 -1.0421  1.085972  13.1426  7.429172      0           0   \n",
       "\n",
       "   nAromBond  nAtom  ...        MW    WTPT-1    WTPT-2    WTPT-3    WTPT-4  \\\n",
       "0          0      8  ...  60.05531  6.732051  1.683013  6.732051  2.244017   \n",
       "1          0      8  ...  60.05531  6.732051  1.683013  6.732051  2.244017   \n",
       "\n",
       "     WTPT-5  WPATH  WPOL  XLogP  Zagreb  \n",
       "0  4.488034    9.0   0.0 -1.686    12.0  \n",
       "1  4.488034    9.0   0.0 -1.686    12.0  \n",
       "\n",
       "[2 rows x 225 columns]"
      ]
     },
     "execution_count": 43,
     "metadata": {},
     "output_type": "execute_result"
    }
   ],
   "source": [
    "data_descriptors.head(2)"
   ]
  },
  {
   "cell_type": "code",
   "execution_count": 44,
   "metadata": {},
   "outputs": [],
   "source": [
    "# starting from index 401 - 431 (432 exlcuded) removing water compounds\n",
    "# index_to_drop = [i for i in range(401, 432)]"
   ]
  },
  {
   "cell_type": "code",
   "execution_count": 45,
   "metadata": {},
   "outputs": [],
   "source": [
    "# let's make logkpl dataframe to use it for later\n",
    "logkpl_df = orginal_df[['logkpl', 'Compound']]"
   ]
  },
  {
   "cell_type": "code",
   "execution_count": 46,
   "metadata": {},
   "outputs": [],
   "source": [
    "# starting from index 445 - 476 (432 exlcuded) removing water compounds\n",
    "index_to_drop = [i for i in range(445, 476)]"
   ]
  },
  {
   "cell_type": "code",
   "execution_count": 47,
   "metadata": {},
   "outputs": [],
   "source": [
    "# remove the rows from our dataframes\n",
    "clean_data_descriptors = data_descriptors.drop(index_to_drop, axis=0)\n",
    "clean_data_descriptors.reset_index(inplace=True, drop=True)\n",
    "\n",
    "logkpl_df = logkpl_df.drop(index_to_drop, axis=0)\n",
    "logkpl_df.reset_index(inplace=True, drop=True)"
   ]
  },
  {
   "cell_type": "code",
   "execution_count": 48,
   "metadata": {},
   "outputs": [
    {
     "data": {
      "text/plain": [
       "((445, 2), (445, 225))"
      ]
     },
     "execution_count": 48,
     "metadata": {},
     "output_type": "execute_result"
    }
   ],
   "source": [
    "logkpl_df.shape, clean_data_descriptors.shape"
   ]
  },
  {
   "cell_type": "code",
   "execution_count": 49,
   "metadata": {},
   "outputs": [
    {
     "name": "stdout",
     "output_type": "stream",
     "text": [
      "HybRatio 31\n",
      "JPLogP 31\n",
      "Kier3 12\n",
      "topoShape 31\n",
      "geomShape 476\n"
     ]
    }
   ],
   "source": [
    "for col in data_descriptors.columns:\n",
    "    if data_descriptors[col].isna().sum() > 0:\n",
    "        print(col, data_descriptors[col].isna().sum())\n",
    "        #data_descriptors[col] = tries[col].fillna(tries[col].mean())"
   ]
  },
  {
   "attachments": {},
   "cell_type": "markdown",
   "metadata": {},
   "source": [
    "remove `geomShape` & `SMILES` columns from data descsriptors, and fill the rest with mean for now."
   ]
  },
  {
   "cell_type": "code",
   "execution_count": 50,
   "metadata": {},
   "outputs": [],
   "source": [
    "clean_data_descriptors = clean_data_descriptors.drop([\"geomShape\"], axis=1)"
   ]
  },
  {
   "cell_type": "code",
   "execution_count": 51,
   "metadata": {},
   "outputs": [
    {
     "data": {
      "text/plain": [
       "count    445.000000\n",
       "mean       0.847435\n",
       "std        0.200462\n",
       "min        0.000000\n",
       "25%        0.750000\n",
       "50%        1.000000\n",
       "75%        1.000000\n",
       "max        1.000000\n",
       "Name: topoShape, dtype: float64"
      ]
     },
     "execution_count": 51,
     "metadata": {},
     "output_type": "execute_result"
    }
   ],
   "source": [
    "clean_data_descriptors['topoShape'].describe()"
   ]
  },
  {
   "cell_type": "code",
   "execution_count": 52,
   "metadata": {},
   "outputs": [
    {
     "data": {
      "text/plain": [
       "<Axes: ylabel='Kier3'>"
      ]
     },
     "execution_count": 52,
     "metadata": {},
     "output_type": "execute_result"
    },
    {
     "data": {
      "image/png": "[encoded data removed]",
      "text/plain": [
       "<Figure size 640x480 with 1 Axes>"
      ]
     },
     "metadata": {},
     "output_type": "display_data"
    }
   ],
   "source": [
    "sns.boxplot(clean_data_descriptors['Kier3'])"
   ]
  },
  {
   "cell_type": "code",
   "execution_count": 53,
   "metadata": {},
   "outputs": [],
   "source": [
    "mean_cols = ['topoShape']\n",
    "median_cols = ['HybRatio', 'JPLogP', 'Kier3']"
   ]
  },
  {
   "cell_type": "code",
   "execution_count": 54,
   "metadata": {},
   "outputs": [
    {
     "name": "stdout",
     "output_type": "stream",
     "text": [
      "Kier3 12\n"
     ]
    }
   ],
   "source": [
    "# filling by mean\n",
    "for col in clean_data_descriptors.columns:\n",
    "    if clean_data_descriptors[col].isna().sum() > 0:\n",
    "        print(col, clean_data_descriptors[col].isna().sum())\n",
    "        if col in mean_cols:\n",
    "            clean_data_descriptors[col] = clean_data_descriptors[col].fillna(clean_data_descriptors[col].mean())\n",
    "        if col in median_cols:\n",
    "            clean_data_descriptors[col] = clean_data_descriptors[col].fillna(clean_data_descriptors[col].median())"
   ]
  },
  {
   "cell_type": "code",
   "execution_count": 55,
   "metadata": {},
   "outputs": [
    {
     "data": {
      "text/plain": [
       "0"
      ]
     },
     "execution_count": 55,
     "metadata": {},
     "output_type": "execute_result"
    }
   ],
   "source": [
    "clean_data_descriptors.isna().sum().sum()"
   ]
  },
  {
   "cell_type": "code",
   "execution_count": 56,
   "metadata": {},
   "outputs": [
    {
     "data": {
      "text/plain": [
       "(445, 224)"
      ]
     },
     "execution_count": 56,
     "metadata": {},
     "output_type": "execute_result"
    }
   ],
   "source": [
    "clean_data_descriptors.shape"
   ]
  },
  {
   "cell_type": "code",
   "execution_count": 57,
   "metadata": {},
   "outputs": [
    {
     "data": {
      "text/plain": [
       "(445, 2)"
      ]
     },
     "execution_count": 57,
     "metadata": {},
     "output_type": "execute_result"
    }
   ],
   "source": [
    "logkpl_df.shape"
   ]
  },
  {
   "cell_type": "code",
   "execution_count": 58,
   "metadata": {},
   "outputs": [
    {
     "data": {
      "text/plain": [
       "(445, 226)"
      ]
     },
     "execution_count": 58,
     "metadata": {},
     "output_type": "execute_result"
    }
   ],
   "source": [
    "trial_4_df = pd.concat([logkpl_df, clean_data_descriptors], axis=1)\n",
    "trial_4_df.shape"
   ]
  },
  {
   "cell_type": "code",
   "execution_count": 59,
   "metadata": {},
   "outputs": [
    {
     "data": {
      "text/html": [
       "<div>\n",
       "<style scoped>\n",
       "    .dataframe tbody tr th:only-of-type {\n",
       "        vertical-align: middle;\n",
       "    }\n",
       "\n",
       "    .dataframe tbody tr th {\n",
       "        vertical-align: top;\n",
       "    }\n",
       "\n",
       "    .dataframe thead th {\n",
       "        text-align: right;\n",
       "    }\n",
       "</style>\n",
       "<table border=\"1\" class=\"dataframe\">\n",
       "  <thead>\n",
       "    <tr style=\"text-align: right;\">\n",
       "      <th></th>\n",
       "      <th>logkpl</th>\n",
       "      <th>Compound</th>\n",
       "      <th>SMILES</th>\n",
       "      <th>Texpi</th>\n",
       "      <th>ALogP</th>\n",
       "      <th>ALogp2</th>\n",
       "      <th>AMR</th>\n",
       "      <th>apol</th>\n",
       "      <th>nAcid</th>\n",
       "      <th>naAromAtom</th>\n",
       "      <th>...</th>\n",
       "      <th>MW</th>\n",
       "      <th>WTPT-1</th>\n",
       "      <th>WTPT-2</th>\n",
       "      <th>WTPT-3</th>\n",
       "      <th>WTPT-4</th>\n",
       "      <th>WTPT-5</th>\n",
       "      <th>WPATH</th>\n",
       "      <th>WPOL</th>\n",
       "      <th>XLogP</th>\n",
       "      <th>Zagreb</th>\n",
       "    </tr>\n",
       "  </thead>\n",
       "  <tbody>\n",
       "    <tr>\n",
       "      <th>0</th>\n",
       "      <td>-3.55</td>\n",
       "      <td>Urea</td>\n",
       "      <td>C(=O)(N)N</td>\n",
       "      <td>312</td>\n",
       "      <td>-1.0421</td>\n",
       "      <td>1.085972</td>\n",
       "      <td>13.1426</td>\n",
       "      <td>7.429172</td>\n",
       "      <td>0</td>\n",
       "      <td>0</td>\n",
       "      <td>...</td>\n",
       "      <td>60.055310</td>\n",
       "      <td>6.732051</td>\n",
       "      <td>1.683013</td>\n",
       "      <td>6.732051</td>\n",
       "      <td>2.244017</td>\n",
       "      <td>4.488034</td>\n",
       "      <td>9.0</td>\n",
       "      <td>0.0</td>\n",
       "      <td>-1.686</td>\n",
       "      <td>12.0</td>\n",
       "    </tr>\n",
       "    <tr>\n",
       "      <th>1</th>\n",
       "      <td>-3.69</td>\n",
       "      <td>Urea</td>\n",
       "      <td>C(=O)(N)N</td>\n",
       "      <td>312</td>\n",
       "      <td>-1.0421</td>\n",
       "      <td>1.085972</td>\n",
       "      <td>13.1426</td>\n",
       "      <td>7.429172</td>\n",
       "      <td>0</td>\n",
       "      <td>0</td>\n",
       "      <td>...</td>\n",
       "      <td>60.055310</td>\n",
       "      <td>6.732051</td>\n",
       "      <td>1.683013</td>\n",
       "      <td>6.732051</td>\n",
       "      <td>2.244017</td>\n",
       "      <td>4.488034</td>\n",
       "      <td>9.0</td>\n",
       "      <td>0.0</td>\n",
       "      <td>-1.686</td>\n",
       "      <td>12.0</td>\n",
       "    </tr>\n",
       "    <tr>\n",
       "      <th>2</th>\n",
       "      <td>-3.83</td>\n",
       "      <td>Urea</td>\n",
       "      <td>C(=O)(N)N</td>\n",
       "      <td>312</td>\n",
       "      <td>-1.0421</td>\n",
       "      <td>1.085972</td>\n",
       "      <td>13.1426</td>\n",
       "      <td>7.429172</td>\n",
       "      <td>0</td>\n",
       "      <td>0</td>\n",
       "      <td>...</td>\n",
       "      <td>60.055310</td>\n",
       "      <td>6.732051</td>\n",
       "      <td>1.683013</td>\n",
       "      <td>6.732051</td>\n",
       "      <td>2.244017</td>\n",
       "      <td>4.488034</td>\n",
       "      <td>9.0</td>\n",
       "      <td>0.0</td>\n",
       "      <td>-1.686</td>\n",
       "      <td>12.0</td>\n",
       "    </tr>\n",
       "    <tr>\n",
       "      <th>3</th>\n",
       "      <td>-3.95</td>\n",
       "      <td>Urea</td>\n",
       "      <td>C(=O)(N)N</td>\n",
       "      <td>312</td>\n",
       "      <td>-1.0421</td>\n",
       "      <td>1.085972</td>\n",
       "      <td>13.1426</td>\n",
       "      <td>7.429172</td>\n",
       "      <td>0</td>\n",
       "      <td>0</td>\n",
       "      <td>...</td>\n",
       "      <td>60.055310</td>\n",
       "      <td>6.732051</td>\n",
       "      <td>1.683013</td>\n",
       "      <td>6.732051</td>\n",
       "      <td>2.244017</td>\n",
       "      <td>4.488034</td>\n",
       "      <td>9.0</td>\n",
       "      <td>0.0</td>\n",
       "      <td>-1.686</td>\n",
       "      <td>12.0</td>\n",
       "    </tr>\n",
       "    <tr>\n",
       "      <th>4</th>\n",
       "      <td>-3.93</td>\n",
       "      <td>Urea</td>\n",
       "      <td>C(=O)(N)N</td>\n",
       "      <td>312</td>\n",
       "      <td>-1.0421</td>\n",
       "      <td>1.085972</td>\n",
       "      <td>13.1426</td>\n",
       "      <td>7.429172</td>\n",
       "      <td>0</td>\n",
       "      <td>0</td>\n",
       "      <td>...</td>\n",
       "      <td>60.055310</td>\n",
       "      <td>6.732051</td>\n",
       "      <td>1.683013</td>\n",
       "      <td>6.732051</td>\n",
       "      <td>2.244017</td>\n",
       "      <td>4.488034</td>\n",
       "      <td>9.0</td>\n",
       "      <td>0.0</td>\n",
       "      <td>-1.686</td>\n",
       "      <td>12.0</td>\n",
       "    </tr>\n",
       "    <tr>\n",
       "      <th>...</th>\n",
       "      <td>...</td>\n",
       "      <td>...</td>\n",
       "      <td>...</td>\n",
       "      <td>...</td>\n",
       "      <td>...</td>\n",
       "      <td>...</td>\n",
       "      <td>...</td>\n",
       "      <td>...</td>\n",
       "      <td>...</td>\n",
       "      <td>...</td>\n",
       "      <td>...</td>\n",
       "      <td>...</td>\n",
       "      <td>...</td>\n",
       "      <td>...</td>\n",
       "      <td>...</td>\n",
       "      <td>...</td>\n",
       "      <td>...</td>\n",
       "      <td>...</td>\n",
       "      <td>...</td>\n",
       "      <td>...</td>\n",
       "      <td>...</td>\n",
       "    </tr>\n",
       "    <tr>\n",
       "      <th>440</th>\n",
       "      <td>-3.68</td>\n",
       "      <td>Methylglucose</td>\n",
       "      <td>COC(C(C=O)O)C(C(CO)O)O</td>\n",
       "      <td>310</td>\n",
       "      <td>-2.2754</td>\n",
       "      <td>5.177445</td>\n",
       "      <td>42.1719</td>\n",
       "      <td>26.467102</td>\n",
       "      <td>0</td>\n",
       "      <td>0</td>\n",
       "      <td>...</td>\n",
       "      <td>194.182751</td>\n",
       "      <td>24.142258</td>\n",
       "      <td>1.857097</td>\n",
       "      <td>14.920659</td>\n",
       "      <td>14.920659</td>\n",
       "      <td>0.000000</td>\n",
       "      <td>252.0</td>\n",
       "      <td>18.0</td>\n",
       "      <td>-2.806</td>\n",
       "      <td>54.0</td>\n",
       "    </tr>\n",
       "    <tr>\n",
       "      <th>441</th>\n",
       "      <td>-1.56</td>\n",
       "      <td>Eugenol</td>\n",
       "      <td>COC1=C(C=CC(=C1)CC=C)O</td>\n",
       "      <td>305</td>\n",
       "      <td>2.5541</td>\n",
       "      <td>6.523427</td>\n",
       "      <td>48.5026</td>\n",
       "      <td>27.205516</td>\n",
       "      <td>0</td>\n",
       "      <td>6</td>\n",
       "      <td>...</td>\n",
       "      <td>164.201458</td>\n",
       "      <td>23.427332</td>\n",
       "      <td>1.952278</td>\n",
       "      <td>5.304497</td>\n",
       "      <td>5.304497</td>\n",
       "      <td>0.000000</td>\n",
       "      <td>204.0</td>\n",
       "      <td>15.0</td>\n",
       "      <td>2.556</td>\n",
       "      <td>54.0</td>\n",
       "    </tr>\n",
       "    <tr>\n",
       "      <th>442</th>\n",
       "      <td>-1.59</td>\n",
       "      <td>Eugenol</td>\n",
       "      <td>COC1=C(C=CC(=C1)CC=C)O</td>\n",
       "      <td>305</td>\n",
       "      <td>2.5541</td>\n",
       "      <td>6.523427</td>\n",
       "      <td>48.5026</td>\n",
       "      <td>27.205516</td>\n",
       "      <td>0</td>\n",
       "      <td>6</td>\n",
       "      <td>...</td>\n",
       "      <td>164.201458</td>\n",
       "      <td>23.427332</td>\n",
       "      <td>1.952278</td>\n",
       "      <td>5.304497</td>\n",
       "      <td>5.304497</td>\n",
       "      <td>0.000000</td>\n",
       "      <td>204.0</td>\n",
       "      <td>15.0</td>\n",
       "      <td>2.556</td>\n",
       "      <td>54.0</td>\n",
       "    </tr>\n",
       "    <tr>\n",
       "      <th>443</th>\n",
       "      <td>-2.07</td>\n",
       "      <td>Methyl methanesulfonate</td>\n",
       "      <td>COS(=O)(=O)C</td>\n",
       "      <td>305</td>\n",
       "      <td>-0.3747</td>\n",
       "      <td>0.140400</td>\n",
       "      <td>21.6541</td>\n",
       "      <td>12.826758</td>\n",
       "      <td>0</td>\n",
       "      <td>0</td>\n",
       "      <td>...</td>\n",
       "      <td>110.133416</td>\n",
       "      <td>10.465990</td>\n",
       "      <td>1.744332</td>\n",
       "      <td>10.298097</td>\n",
       "      <td>7.194544</td>\n",
       "      <td>0.000000</td>\n",
       "      <td>28.0</td>\n",
       "      <td>3.0</td>\n",
       "      <td>-0.869</td>\n",
       "      <td>24.0</td>\n",
       "    </tr>\n",
       "    <tr>\n",
       "      <th>444</th>\n",
       "      <td>-1.91</td>\n",
       "      <td>Methyl methanesulfonate</td>\n",
       "      <td>COS(=O)(=O)C</td>\n",
       "      <td>305</td>\n",
       "      <td>-0.3747</td>\n",
       "      <td>0.140400</td>\n",
       "      <td>21.6541</td>\n",
       "      <td>12.826758</td>\n",
       "      <td>0</td>\n",
       "      <td>0</td>\n",
       "      <td>...</td>\n",
       "      <td>110.133416</td>\n",
       "      <td>10.465990</td>\n",
       "      <td>1.744332</td>\n",
       "      <td>10.298097</td>\n",
       "      <td>7.194544</td>\n",
       "      <td>0.000000</td>\n",
       "      <td>28.0</td>\n",
       "      <td>3.0</td>\n",
       "      <td>-0.869</td>\n",
       "      <td>24.0</td>\n",
       "    </tr>\n",
       "  </tbody>\n",
       "</table>\n",
       "<p>445 rows × 226 columns</p>\n",
       "</div>"
      ],
      "text/plain": [
       "     logkpl                 Compound                  SMILES  Texpi   ALogP  \\\n",
       "0     -3.55                     Urea               C(=O)(N)N    312 -1.0421   \n",
       "1     -3.69                     Urea               C(=O)(N)N    312 -1.0421   \n",
       "2     -3.83                     Urea               C(=O)(N)N    312 -1.0421   \n",
       "3     -3.95                     Urea               C(=O)(N)N    312 -1.0421   \n",
       "4     -3.93                     Urea               C(=O)(N)N    312 -1.0421   \n",
       "..      ...                      ...                     ...    ...     ...   \n",
       "440   -3.68            Methylglucose  COC(C(C=O)O)C(C(CO)O)O    310 -2.2754   \n",
       "441   -1.56                  Eugenol  COC1=C(C=CC(=C1)CC=C)O    305  2.5541   \n",
       "442   -1.59                  Eugenol  COC1=C(C=CC(=C1)CC=C)O    305  2.5541   \n",
       "443   -2.07  Methyl methanesulfonate            COS(=O)(=O)C    305 -0.3747   \n",
       "444   -1.91  Methyl methanesulfonate            COS(=O)(=O)C    305 -0.3747   \n",
       "\n",
       "       ALogp2      AMR       apol  nAcid  naAromAtom  ...          MW  \\\n",
       "0    1.085972  13.1426   7.429172      0           0  ...   60.055310   \n",
       "1    1.085972  13.1426   7.429172      0           0  ...   60.055310   \n",
       "2    1.085972  13.1426   7.429172      0           0  ...   60.055310   \n",
       "3    1.085972  13.1426   7.429172      0           0  ...   60.055310   \n",
       "4    1.085972  13.1426   7.429172      0           0  ...   60.055310   \n",
       "..        ...      ...        ...    ...         ...  ...         ...   \n",
       "440  5.177445  42.1719  26.467102      0           0  ...  194.182751   \n",
       "441  6.523427  48.5026  27.205516      0           6  ...  164.201458   \n",
       "442  6.523427  48.5026  27.205516      0           6  ...  164.201458   \n",
       "443  0.140400  21.6541  12.826758      0           0  ...  110.133416   \n",
       "444  0.140400  21.6541  12.826758      0           0  ...  110.133416   \n",
       "\n",
       "        WTPT-1    WTPT-2     WTPT-3     WTPT-4    WTPT-5  WPATH  WPOL  XLogP  \\\n",
       "0     6.732051  1.683013   6.732051   2.244017  4.488034    9.0   0.0 -1.686   \n",
       "1     6.732051  1.683013   6.732051   2.244017  4.488034    9.0   0.0 -1.686   \n",
       "2     6.732051  1.683013   6.732051   2.244017  4.488034    9.0   0.0 -1.686   \n",
       "3     6.732051  1.683013   6.732051   2.244017  4.488034    9.0   0.0 -1.686   \n",
       "4     6.732051  1.683013   6.732051   2.244017  4.488034    9.0   0.0 -1.686   \n",
       "..         ...       ...        ...        ...       ...    ...   ...    ...   \n",
       "440  24.142258  1.857097  14.920659  14.920659  0.000000  252.0  18.0 -2.806   \n",
       "441  23.427332  1.952278   5.304497   5.304497  0.000000  204.0  15.0  2.556   \n",
       "442  23.427332  1.952278   5.304497   5.304497  0.000000  204.0  15.0  2.556   \n",
       "443  10.465990  1.744332  10.298097   7.194544  0.000000   28.0   3.0 -0.869   \n",
       "444  10.465990  1.744332  10.298097   7.194544  0.000000   28.0   3.0 -0.869   \n",
       "\n",
       "     Zagreb  \n",
       "0      12.0  \n",
       "1      12.0  \n",
       "2      12.0  \n",
       "3      12.0  \n",
       "4      12.0  \n",
       "..      ...  \n",
       "440    54.0  \n",
       "441    54.0  \n",
       "442    54.0  \n",
       "443    24.0  \n",
       "444    24.0  \n",
       "\n",
       "[445 rows x 226 columns]"
      ]
     },
     "execution_count": 59,
     "metadata": {},
     "output_type": "execute_result"
    }
   ],
   "source": [
    "trial_4_df"
   ]
  },
  {
   "cell_type": "code",
   "execution_count": 60,
   "metadata": {},
   "outputs": [],
   "source": [
    "# saving trial 4 file\n",
    "trial_4_df.to_csv('../../data/processed/trial4.csv', index=False)"
   ]
  }
 ],
 "metadata": {
  "kernelspec": {
   "display_name": "ds",
   "language": "python",
   "name": "python3"
  },
  "language_info": {
   "codemirror_mode": {
    "name": "ipython",
    "version": 3
   },
   "file_extension": ".py",
   "mimetype": "text/x-python",
   "name": "python",
   "nbconvert_exporter": "python",
   "pygments_lexer": "ipython3",
   "version": "3.10.13"
  },
  "orig_nbformat": 4,
  "vscode": {
   "interpreter": {
    "hash": "20dc5ffa7283070ee904113ac137ec063d55d491ad60d3ae86495ae673f57bef"
   }
  }
 },
 "nbformat": 4,
 "nbformat_minor": 2
}
